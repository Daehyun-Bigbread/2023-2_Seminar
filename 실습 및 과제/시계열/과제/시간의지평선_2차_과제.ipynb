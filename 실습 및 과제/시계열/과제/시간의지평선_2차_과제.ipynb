{
  "nbformat": 4,
  "nbformat_minor": 0,
  "metadata": {
    "colab": {
      "provenance": []
    },
    "kernelspec": {
      "name": "python3",
      "display_name": "Python 3"
    },
    "language_info": {
      "name": "python"
    }
  },
  "cells": [
    {
      "cell_type": "markdown",
      "source": [
        "## 1. 원하는 기사를 찾은 후 해당 페이지 URL에서 뉴스 기사 텍스트 데이터를 크롤링하세요."
      ],
      "metadata": {
        "id": "rA31UwRd5lFZ"
      }
    },
    {
      "cell_type": "code",
      "execution_count": null,
      "metadata": {
        "id": "nDmx66wbtGFs"
      },
      "outputs": [],
      "source": [
        "import requests\n",
        "import urllib.request\n",
        "import time\n",
        "from bs4 import BeautifulSoup"
      ]
    },
    {
      "cell_type": "code",
      "source": [
        "url = 'http://www.hufsnews.co.kr/news/articleView.html?idxno=23369'\n",
        "response = requests.get(url)"
      ],
      "metadata": {
        "id": "G2DI7aiC0E4W"
      },
      "execution_count": null,
      "outputs": []
    },
    {
      "cell_type": "code",
      "source": [
        "soup = BeautifulSoup(response.text, 'html.parser')\n",
        "\n",
        "tags = soup.find_all('p')\n",
        "\n",
        "txt_list = [txt.get_text() for txt in tags]\n",
        "txt_full = ' '.join(txt_list)\n",
        "print(txt_full)"
      ],
      "metadata": {
        "colab": {
          "base_uri": "https://localhost:8080/"
        },
        "id": "DMg5QKb22MsQ",
        "outputId": "0691a9f6-8103-4429-d9fc-b259622a7c02"
      },
      "execution_count": null,
      "outputs": [
        {
          "output_type": "stream",
          "name": "stdout",
          "text": [
            "4차 산업혁명이 촉발한 변화의 물결 속에서 고등교육 패러다임의 근본적 변화와 대학의 획기적인 혁신이 요구되고 있다. 이러한 시대적·사회적 변화에 발맞춰 한국외대는 캠퍼스별 특성화 발전을 본격화할 계획이다. 서울캠퍼스는 어문·사회과학 중심의 다국어 데이터 기반 외국학 융합으로 특성화하고, 글로벌캠퍼스는 정보기술(IT·Information Technology), 생명공학기술(BT·Bio Technology), 문화기술(CT·Culture Technology) 기반 실용학문 융합으로 특화 발전을 추진한다. 한국외대가 2024학년도에 새롭게 선보일 양 캠퍼스 8개 신설학부를 소개한다. [서울캠퍼스]\n",
            "Language & AI융합학부\r\n",
            "Language & AI융합학부는 ▲언어의 본질을 이해하고 언어 자원의 과학적 활용이 가능한 AI 전문 개발 인재 양성 ▲텍스트·음성 등 언어 데이터 처리 기술의 활용 능력 배양을 통한 자동 통번역, 외국어교육 SW 등 AI 기술의 실용화에 기여하는 인재 양성 ▲AI 비서, 지능형 인간-기계 인터랙션 등 미래 혁신 응용 시스템 개발 역량을 보유한 인재 양성 등을 목표로 한다. Social Science & AI융합학부\r\n",
            "Social Science & AI융합학부는 사회과학에 대한 지식과 빅데이터, AI 활용 능력을 접목해 미래 산업 변화에 대처할 수 있는 역량 개발을 목표로 한다. 특히 ▲외국어 능력과 사회과학 전문 지식을 바탕으로 데이터를 가공·분석하는 능력을 갖춘 디지털 혁신 인재 ▲데이터 활용에 대한 실무 지식과 데이터 분석을 기반으로 사회 요구에 부응하는 서비스를 창출하는 전문 인재를 양성한다. [글로벌캠퍼스]\r\n",
            "Finance & AI융합학부\r\n",
            "Finance & AI융합학부는 ▲금융과 AI 및 데이터 기술에 대한 이해를 바탕으로 글로벌 핀테크 서비스와 비즈니스를 선도할 인재 양성 ▲금융과 외국어 및 지역학 관련 지식과 빅데이터 분석 능력을 갖춘 ESG 평가 전문 인재 양성을 목표로 한다. 이를 위하여 금융 및 ESG, 빅데이터 분석 및 AI,  글로벌 외국어·지역학 등 3대 중점 교육분야로 특화하여 교육한다. AI데이터융합학부\r\n",
            "AI데이터융합학부의 교육목표는 AI와 데이터에 대한 이해를 바탕으로 융합적 문제 해결 능력을 지닌 인재를 배출하는 것으로 ▲AI와 데이터 기술의 기초, AI 학습을 위한 빅데이터 처리 및 분석, AI 윤리 및 철학 ▲AI 기반 SW공학, 사물 인터넷을 위한 AI, AI 정보 보안, 캡스톤 설계 등 AI데이터융합 심화 교육과정 ▲PBL(project based learning) 위주의 융합 교육으로 실무 적응력을 높이는 교육을 제공할 예정이다. 디지털콘텐츠학부\r\n",
            "디지털콘텐츠학부는 Culture & Technology 융합대학 소속으로 ▲문화와 테크놀로지, 비즈니스 융합형 글로벌 인재 양성 ▲외국어 역량 기반의 디지털 콘텐츠 전문 인재 양성 ▲세계 시민 사회의 문제 발굴 및 해결을 위한 자율적 인재 양성 ▲디지털 세계를 선도할 창조적 인재 양성을 목표로 한다. 투어리즘 & 웰니스학부\r\n",
            "투어리즘 & 웰니스학부는 역시 Culture & Technology 융합대학 산하에 있으며 ▲지역학적 지식을 바탕으로 국제적 시장 변화에 민첩하게 대응해 글로벌 관광 및 웰니스 헬스케어 관련 산업을 주도할 수 있는 인재 양성 ▲영어 및 제2외국어 구사력과 다문화 감수성을 경쟁력으로 갖춘 전문 인재 양성 ▲창의적 문제 해결 능력을 바탕으로 산업을 선도하는 자기 주도적 인재 양성을 목표로 한다. 반도체전자공학부\r\n",
            "반도체전자공학부는 ▲국제적 감각을 지닌 반도체 및 전자 공학 전문가 양성 ▲전자·정보통신 분야에 대한 전문 지식을 바탕으로 공학적 문제 해결 능력을 갖춘 인재 양성 ▲반도체 산업의 발달을 선도하기 위한 창의적 기술 인재 및  국제화 역량과 인문적 소양을 갖춘 글로벌 융합 인재 양성을 목표로 한다. 기후변화융합학부\r\n",
            "기후변화융합학부는 국내 최초로 학부과정에서 ▲온실가스 측정 및 분석 ▲기후 변화 감시 및 예측 ▲효율적 에너지 시스템 관리 ▲기후 변화 정책 및 국제 협력 분야에서 다가올 기후 변화 산업과 연구를 선도할 융합 인재 양성을 목표로 한다. 사회과학적 소양과 자연과학·공학과의 융복합적 교육을 통해 미래의 기후 변화 관련 업무를 국제 사회에서 선도할 수 있는 안목을 갖춘 글로벌 융합 인재를 배출한다. ※ 관련기사 바로가기 - ‘AI, 반도체, 컬처 & 테크놀러지, 기후변화 등 첨단 융합전공 신설’(동아일보, 2023.08.28.) ※ 신설학부 홈페이지 바로가기 : 학부명을 클릭하시면 바로 연결됩니다\n",
            "Language & AI융합학부  (https://langai.hufs.ac.kr)\n",
            "Social Science & AI융합학부  (https://ssai.hufs.ac.kr)\n",
            "Finance & AI융합학부  (https://aifinance.hufs.ac.kr)\n",
            "AI데이터융합학부  (https://aidata.hufs.ac.kr)\n",
            "디지털콘텐츠학부  (https://dicon.hufs.ac.kr)\n",
            "투어리즘 & 웰니스학부  (https://tw.hufs.ac.kr)\n",
            "반도체전자공학부  (https://semi.hufs.ac.kr)\n",
            "기후변화융합학부  (https://cc.hufs.ac.kr)\n"
          ]
        }
      ]
    },
    {
      "cell_type": "markdown",
      "source": [
        "## 2. 크롤링한 텍스트 데이터를 토큰화하고, 각 단어의 빈도를 계산하세요."
      ],
      "metadata": {
        "id": "Gio9zkuI5jwv"
      }
    },
    {
      "cell_type": "code",
      "source": [
        "import nltk\n",
        "from nltk.tokenize import word_tokenize, sent_tokenize\n",
        "from nltk.probability import FreqDist\n",
        "import re"
      ],
      "metadata": {
        "id": "0HB-ifBM5VXL"
      },
      "execution_count": null,
      "outputs": []
    },
    {
      "cell_type": "code",
      "source": [
        "import nltk\n",
        "nltk.download('punkt')"
      ],
      "metadata": {
        "colab": {
          "base_uri": "https://localhost:8080/"
        },
        "id": "kf8_c_Ay7Kul",
        "outputId": "6ceeb893-c5fe-48af-bff5-d5c7c9727883"
      },
      "execution_count": null,
      "outputs": [
        {
          "output_type": "stream",
          "name": "stderr",
          "text": [
            "[nltk_data] Downloading package punkt to /root/nltk_data...\n",
            "[nltk_data]   Unzipping tokenizers/punkt.zip.\n"
          ]
        },
        {
          "output_type": "execute_result",
          "data": {
            "text/plain": [
              "True"
            ]
          },
          "metadata": {},
          "execution_count": 5
        }
      ]
    },
    {
      "cell_type": "code",
      "source": [
        "txt_cleaned = re.sub(r'[^\\w\\s]', '', txt_full)  # 특수문자 제거\n",
        "txt_cleaned = re.sub(r'\\d+', '', txt_cleaned)  # 숫자 제거\n",
        "\n",
        "tokens = word_tokenize(txt_cleaned)\n",
        "freq_dist = FreqDist(tokens)\n",
        "\n",
        "for word, freq in freq_dist.items():\n",
        "  print(f'{word}: {freq}')"
      ],
      "metadata": {
        "colab": {
          "base_uri": "https://localhost:8080/"
        },
        "id": "T_SXOaLr5svo",
        "outputId": "f4b8c244-cb42-4f08-9b67-65d30232a906"
      },
      "execution_count": null,
      "outputs": [
        {
          "output_type": "stream",
          "name": "stdout",
          "text": [
            "차: 1\n",
            "산업혁명이: 1\n",
            "촉발한: 1\n",
            "변화의: 1\n",
            "물결: 1\n",
            "속에서: 1\n",
            "고등교육: 1\n",
            "패러다임의: 1\n",
            "근본적: 1\n",
            "변화와: 1\n",
            "대학의: 1\n",
            "획기적인: 1\n",
            "혁신이: 1\n",
            "요구되고: 1\n",
            "있다: 1\n",
            "이러한: 1\n",
            "시대적사회적: 1\n",
            "변화에: 3\n",
            "발맞춰: 1\n",
            "한국외대는: 1\n",
            "캠퍼스별: 1\n",
            "특성화: 1\n",
            "발전을: 2\n",
            "본격화할: 1\n",
            "계획이다: 1\n",
            "서울캠퍼스는: 1\n",
            "어문사회과학: 1\n",
            "중심의: 1\n",
            "다국어: 1\n",
            "데이터: 6\n",
            "기반: 3\n",
            "외국학: 1\n",
            "융합으로: 2\n",
            "특성화하고: 1\n",
            "글로벌캠퍼스는: 1\n",
            "정보기술ITInformation: 1\n",
            "Technology: 5\n",
            "생명공학기술BTBio: 1\n",
            "문화기술CTCulture: 1\n",
            "실용학문: 1\n",
            "특화: 1\n",
            "추진한다: 1\n",
            "한국외대가: 1\n",
            "학년도에: 1\n",
            "새롭게: 1\n",
            "선보일: 1\n",
            "양: 1\n",
            "캠퍼스: 1\n",
            "개: 1\n",
            "신설학부를: 1\n",
            "소개한다: 1\n",
            "서울캠퍼스: 1\n",
            "Language: 3\n",
            "AI융합학부: 6\n",
            "AI융합학부는: 3\n",
            "언어의: 1\n",
            "본질을: 1\n",
            "이해하고: 1\n",
            "언어: 2\n",
            "자원의: 1\n",
            "과학적: 1\n",
            "활용이: 1\n",
            "가능한: 1\n",
            "AI: 12\n",
            "전문: 7\n",
            "개발: 2\n",
            "인재: 17\n",
            "양성: 11\n",
            "텍스트음성: 1\n",
            "등: 6\n",
            "처리: 2\n",
            "기술의: 3\n",
            "활용: 2\n",
            "능력: 1\n",
            "배양을: 1\n",
            "통한: 1\n",
            "자동: 1\n",
            "통번역: 1\n",
            "외국어교육: 1\n",
            "SW: 1\n",
            "실용화에: 1\n",
            "기여하는: 1\n",
            "비서: 1\n",
            "지능형: 1\n",
            "인간기계: 1\n",
            "인터랙션: 1\n",
            "미래: 2\n",
            "혁신: 2\n",
            "응용: 1\n",
            "시스템: 2\n",
            "역량을: 1\n",
            "보유한: 1\n",
            "등을: 1\n",
            "목표로: 7\n",
            "한다: 7\n",
            "Social: 3\n",
            "Science: 3\n",
            "사회과학에: 1\n",
            "대한: 5\n",
            "지식과: 3\n",
            "빅데이터: 4\n",
            "능력을: 6\n",
            "접목해: 1\n",
            "산업: 1\n",
            "대처할: 1\n",
            "수: 3\n",
            "있는: 3\n",
            "역량: 2\n",
            "개발을: 1\n",
            "특히: 1\n",
            "외국어: 3\n",
            "능력과: 1\n",
            "사회과학: 1\n",
            "지식을: 3\n",
            "바탕으로: 6\n",
            "데이터를: 1\n",
            "가공분석하는: 1\n",
            "갖춘: 6\n",
            "디지털: 3\n",
            "활용에: 1\n",
            "실무: 2\n",
            "분석을: 1\n",
            "기반으로: 1\n",
            "사회: 1\n",
            "요구에: 1\n",
            "부응하는: 1\n",
            "서비스를: 1\n",
            "창출하는: 1\n",
            "인재를: 3\n",
            "양성한다: 1\n",
            "글로벌캠퍼스: 1\n",
            "Finance: 3\n",
            "금융과: 2\n",
            "및: 14\n",
            "기술에: 1\n",
            "이해를: 2\n",
            "글로벌: 6\n",
            "핀테크: 1\n",
            "서비스와: 1\n",
            "비즈니스를: 1\n",
            "선도할: 4\n",
            "지역학: 1\n",
            "관련: 3\n",
            "분석: 4\n",
            "ESG: 2\n",
            "평가: 1\n",
            "양성을: 5\n",
            "이를: 1\n",
            "위하여: 1\n",
            "금융: 1\n",
            "외국어지역학: 1\n",
            "대: 1\n",
            "중점: 1\n",
            "교육분야로: 1\n",
            "특화하여: 1\n",
            "교육한다: 1\n",
            "AI데이터융합학부: 2\n",
            "AI데이터융합학부의: 1\n",
            "교육목표는: 1\n",
            "AI와: 2\n",
            "데이터에: 1\n",
            "융합적: 1\n",
            "문제: 4\n",
            "해결: 3\n",
            "지닌: 2\n",
            "배출하는: 1\n",
            "것으로: 1\n",
            "기초: 1\n",
            "학습을: 1\n",
            "위한: 4\n",
            "윤리: 1\n",
            "철학: 1\n",
            "SW공학: 1\n",
            "사물: 1\n",
            "인터넷을: 1\n",
            "정보: 1\n",
            "보안: 1\n",
            "캡스톤: 1\n",
            "설계: 1\n",
            "AI데이터융합: 1\n",
            "심화: 1\n",
            "교육과정: 1\n",
            "PBLproject: 1\n",
            "based: 1\n",
            "learning: 1\n",
            "위주의: 1\n",
            "융합: 4\n",
            "교육으로: 1\n",
            "적응력을: 1\n",
            "높이는: 1\n",
            "교육을: 2\n",
            "제공할: 1\n",
            "예정이다: 1\n",
            "디지털콘텐츠학부: 2\n",
            "디지털콘텐츠학부는: 1\n",
            "Culture: 2\n",
            "융합대학: 2\n",
            "소속으로: 1\n",
            "문화와: 1\n",
            "테크놀로지: 1\n",
            "비즈니스: 1\n",
            "융합형: 1\n",
            "기반의: 1\n",
            "콘텐츠: 1\n",
            "세계: 1\n",
            "시민: 1\n",
            "사회의: 1\n",
            "발굴: 1\n",
            "해결을: 1\n",
            "자율적: 1\n",
            "세계를: 1\n",
            "창조적: 1\n",
            "투어리즘: 3\n",
            "웰니스학부: 2\n",
            "웰니스학부는: 1\n",
            "역시: 1\n",
            "산하에: 1\n",
            "있으며: 1\n",
            "지역학적: 1\n",
            "국제적: 2\n",
            "시장: 1\n",
            "민첩하게: 1\n",
            "대응해: 1\n",
            "관광: 1\n",
            "웰니스: 1\n",
            "헬스케어: 1\n",
            "산업을: 2\n",
            "주도할: 1\n",
            "영어: 1\n",
            "제외국어: 1\n",
            "구사력과: 1\n",
            "다문화: 1\n",
            "감수성을: 1\n",
            "경쟁력으로: 1\n",
            "창의적: 2\n",
            "선도하는: 1\n",
            "자기: 1\n",
            "주도적: 1\n",
            "반도체전자공학부: 2\n",
            "반도체전자공학부는: 1\n",
            "감각을: 1\n",
            "반도체: 3\n",
            "전자: 1\n",
            "공학: 1\n",
            "전문가: 1\n",
            "전자정보통신: 1\n",
            "분야에: 1\n",
            "공학적: 1\n",
            "산업의: 1\n",
            "발달을: 1\n",
            "선도하기: 1\n",
            "기술: 1\n",
            "국제화: 1\n",
            "역량과: 1\n",
            "인문적: 1\n",
            "소양을: 1\n",
            "기후변화융합학부: 2\n",
            "기후변화융합학부는: 1\n",
            "국내: 1\n",
            "최초로: 1\n",
            "학부과정에서: 1\n",
            "온실가스: 1\n",
            "측정: 1\n",
            "기후: 4\n",
            "변화: 4\n",
            "감시: 1\n",
            "예측: 1\n",
            "효율적: 1\n",
            "에너지: 1\n",
            "관리: 1\n",
            "정책: 1\n",
            "국제: 2\n",
            "협력: 1\n",
            "분야에서: 1\n",
            "다가올: 1\n",
            "산업과: 1\n",
            "연구를: 1\n",
            "사회과학적: 1\n",
            "소양과: 1\n",
            "자연과학공학과의: 1\n",
            "융복합적: 1\n",
            "통해: 1\n",
            "미래의: 1\n",
            "업무를: 1\n",
            "사회에서: 1\n",
            "안목을: 1\n",
            "배출한다: 1\n",
            "관련기사: 1\n",
            "바로가기: 2\n",
            "컬처: 1\n",
            "테크놀러지: 1\n",
            "기후변화: 1\n",
            "첨단: 1\n",
            "융합전공: 1\n",
            "신설동아일보: 1\n",
            "신설학부: 1\n",
            "홈페이지: 1\n",
            "학부명을: 1\n",
            "클릭하시면: 1\n",
            "바로: 1\n",
            "연결됩니다: 1\n",
            "httpslangaihufsackr: 1\n",
            "httpsssaihufsackr: 1\n",
            "httpsaifinancehufsackr: 1\n",
            "httpsaidatahufsackr: 1\n",
            "httpsdiconhufsackr: 1\n",
            "httpstwhufsackr: 1\n",
            "httpssemihufsackr: 1\n",
            "httpscchufsackr: 1\n"
          ]
        }
      ]
    },
    {
      "cell_type": "markdown",
      "source": [
        "## 3. 가장 빈도가 높은 단어 10개를 찾아 출력하세요."
      ],
      "metadata": {
        "id": "r0Wkk5Zm8CV7"
      }
    },
    {
      "cell_type": "code",
      "source": [
        "top_words = freq_dist.most_common(10)\n",
        "\n",
        "for word, freq in top_words:\n",
        "        print(f'{word}: {freq}')"
      ],
      "metadata": {
        "colab": {
          "base_uri": "https://localhost:8080/"
        },
        "id": "FftCnbar57KY",
        "outputId": "c2475eeb-b9df-469a-c109-c7fe1a9d5cc6"
      },
      "execution_count": null,
      "outputs": [
        {
          "output_type": "stream",
          "name": "stdout",
          "text": [
            "인재: 17\n",
            "및: 14\n",
            "AI: 12\n",
            "양성: 11\n",
            "전문: 7\n",
            "목표로: 7\n",
            "한다: 7\n",
            "데이터: 6\n",
            "AI융합학부: 6\n",
            "등: 6\n"
          ]
        }
      ]
    },
    {
      "cell_type": "markdown",
      "source": [
        "## 4. 뉴스 기사의 길이(단어 수)를 계산하세요."
      ],
      "metadata": {
        "id": "Lc5wfYgj8Dux"
      }
    },
    {
      "cell_type": "code",
      "source": [
        "word_count = len(tokens)\n",
        "\n",
        "print(f\"뉴스 기사 길이(단어 수): {word_count}\")"
      ],
      "metadata": {
        "colab": {
          "base_uri": "https://localhost:8080/"
        },
        "id": "x9eYmqAo8JgR",
        "outputId": "0828308d-a9ef-4a70-9552-662a250da9c9"
      },
      "execution_count": null,
      "outputs": [
        {
          "output_type": "stream",
          "name": "stdout",
          "text": [
            "뉴스 기사 길이(단어 수): 515\n"
          ]
        }
      ]
    },
    {
      "cell_type": "markdown",
      "source": [
        "## 5. 문장의 평균 길이를 계산하세요."
      ],
      "metadata": {
        "id": "8HK88Kcz8tcC"
      }
    },
    {
      "cell_type": "code",
      "source": [
        "sentences = sent_tokenize(txt_full)\n",
        "\n",
        "sentence_word_counts = [len(word_tokenize(sentence)) for sentence in sentences]\n",
        "\n",
        "avg_sentence_length = sum(sentence_word_counts) / len(sentence_word_counts)\n",
        "\n",
        "print(f\"문장의 평균 길이: {avg_sentence_length:.2f}\")"
      ],
      "metadata": {
        "colab": {
          "base_uri": "https://localhost:8080/"
        },
        "id": "0KXpH4ye8vRb",
        "outputId": "401574b8-6c94-499b-a24a-df3b822d87c2"
      },
      "execution_count": null,
      "outputs": [
        {
          "output_type": "stream",
          "name": "stdout",
          "text": [
            "문장의 평균 길이: 36.59\n"
          ]
        }
      ]
    },
    {
      "cell_type": "markdown",
      "source": [
        "## 6. 기사의 감정을 분석하기 위해 긍정적인 단어와 부정적인 단어의 빈도를 계산하세요."
      ],
      "metadata": {
        "id": "gkr70gCH8wMB"
      }
    },
    {
      "cell_type": "code",
      "source": [
        "import json\n",
        "import pandas as pd\n",
        "\n",
        "with open(\"/content/drive/MyDrive/DAT/23-2/data/SentiWord_info.json\", encoding = \"utf-8-sig\", mode = 'r') as f:\n",
        "  SentiWord_info = json.load(f)\n",
        "\n",
        "sentiword_dic = pd.DataFrame(SentiWord_info)"
      ],
      "metadata": {
        "id": "QNTibwKP80HN"
      },
      "execution_count": null,
      "outputs": []
    },
    {
      "cell_type": "code",
      "source": [
        "df = pd.DataFrame(columns = (\"sentence\", \"sentiment\"))\n",
        "idx = 0\n",
        "\n",
        "for sentence in sentences:\n",
        "  sentiment = 0\n",
        "  for i in range(0, len(sentiword_dic)):\n",
        "    if sentiword_dic.word[i] in sentence:\n",
        "      sentiment += int(sentiword_dic.polarity[i])\n",
        "  df.loc[idx] = [sentence, sentiment]\n",
        "  idx += 1\n",
        "\n",
        "df"
      ],
      "metadata": {
        "colab": {
          "base_uri": "https://localhost:8080/",
          "height": 582
        },
        "id": "u0ZdpvjHiBhh",
        "outputId": "a2aaf4ba-67ba-46ce-f46c-5594ccf89d47"
      },
      "execution_count": null,
      "outputs": [
        {
          "output_type": "execute_result",
          "data": {
            "text/plain": [
              "                                             sentence  sentiment\n",
              "0   4차 산업혁명이 촉발한 변화의 물결 속에서 고등교육 패러다임의 근본적 변화와 대학의...         -2\n",
              "1   이러한 시대적·사회적 변화에 발맞춰 한국외대는 캠퍼스별 특성화 발전을 본격화할 계획이다.         -1\n",
              "2   서울캠퍼스는 어문·사회과학 중심의 다국어 데이터 기반 외국학 융합으로 특성화하고, ...         -4\n",
              "3         한국외대가 2024학년도에 새롭게 선보일 양 캠퍼스 8개 신설학부를 소개한다.          2\n",
              "4   [서울캠퍼스]\\nLanguage & AI융합학부\\r\\nLanguage & AI융합학...          0\n",
              "5   Social Science & AI융합학부\\r\\nSocial Science & AI...         -3\n",
              "6   특히 ▲외국어 능력과 사회과학 전문 지식을 바탕으로 데이터를 가공·분석하는 능력을 ...          4\n",
              "7   [글로벌캠퍼스]\\r\\nFinance & AI융합학부\\r\\nFinance & AI융합...         -3\n",
              "8   이를 위하여 금융 및 ESG, 빅데이터 분석 및 AI,  글로벌 외국어·지역학 등 ...         -4\n",
              "9   AI데이터융합학부\\r\\nAI데이터융합학부의 교육목표는 AI와 데이터에 대한 이해를 ...         -1\n",
              "10  디지털콘텐츠학부\\r\\n디지털콘텐츠학부는 Culture & Technology 융합대...         -6\n",
              "11  투어리즘 & 웰니스학부\\r\\n투어리즘 & 웰니스학부는 역시 Culture & Tec...         -4\n",
              "12  반도체전자공학부\\r\\n반도체전자공학부는 ▲국제적 감각을 지닌 반도체 및 전자 공학 ...         -2\n",
              "13  기후변화융합학부\\r\\n기후변화융합학부는 국내 최초로 학부과정에서 ▲온실가스 측정 및...         -1\n",
              "14  사회과학적 소양과 자연과학·공학과의 융복합적 교육을 통해 미래의 기후 변화 관련 업...         -4\n",
              "15  ※ 관련기사 바로가기 - ‘AI, 반도체, 컬처 & 테크놀러지, 기후변화 등 첨단 ...         -2\n",
              "16  ※ 신설학부 홈페이지 바로가기 : 학부명을 클릭하시면 바로 연결됩니다\\nLangua...         -3"
            ],
            "text/html": [
              "\n",
              "  <div id=\"df-be01299b-b6c8-4dd0-a6b7-9ee7c5def43f\" class=\"colab-df-container\">\n",
              "    <div>\n",
              "<style scoped>\n",
              "    .dataframe tbody tr th:only-of-type {\n",
              "        vertical-align: middle;\n",
              "    }\n",
              "\n",
              "    .dataframe tbody tr th {\n",
              "        vertical-align: top;\n",
              "    }\n",
              "\n",
              "    .dataframe thead th {\n",
              "        text-align: right;\n",
              "    }\n",
              "</style>\n",
              "<table border=\"1\" class=\"dataframe\">\n",
              "  <thead>\n",
              "    <tr style=\"text-align: right;\">\n",
              "      <th></th>\n",
              "      <th>sentence</th>\n",
              "      <th>sentiment</th>\n",
              "    </tr>\n",
              "  </thead>\n",
              "  <tbody>\n",
              "    <tr>\n",
              "      <th>0</th>\n",
              "      <td>4차 산업혁명이 촉발한 변화의 물결 속에서 고등교육 패러다임의 근본적 변화와 대학의...</td>\n",
              "      <td>-2</td>\n",
              "    </tr>\n",
              "    <tr>\n",
              "      <th>1</th>\n",
              "      <td>이러한 시대적·사회적 변화에 발맞춰 한국외대는 캠퍼스별 특성화 발전을 본격화할 계획이다.</td>\n",
              "      <td>-1</td>\n",
              "    </tr>\n",
              "    <tr>\n",
              "      <th>2</th>\n",
              "      <td>서울캠퍼스는 어문·사회과학 중심의 다국어 데이터 기반 외국학 융합으로 특성화하고, ...</td>\n",
              "      <td>-4</td>\n",
              "    </tr>\n",
              "    <tr>\n",
              "      <th>3</th>\n",
              "      <td>한국외대가 2024학년도에 새롭게 선보일 양 캠퍼스 8개 신설학부를 소개한다.</td>\n",
              "      <td>2</td>\n",
              "    </tr>\n",
              "    <tr>\n",
              "      <th>4</th>\n",
              "      <td>[서울캠퍼스]\\nLanguage &amp; AI융합학부\\r\\nLanguage &amp; AI융합학...</td>\n",
              "      <td>0</td>\n",
              "    </tr>\n",
              "    <tr>\n",
              "      <th>5</th>\n",
              "      <td>Social Science &amp; AI융합학부\\r\\nSocial Science &amp; AI...</td>\n",
              "      <td>-3</td>\n",
              "    </tr>\n",
              "    <tr>\n",
              "      <th>6</th>\n",
              "      <td>특히 ▲외국어 능력과 사회과학 전문 지식을 바탕으로 데이터를 가공·분석하는 능력을 ...</td>\n",
              "      <td>4</td>\n",
              "    </tr>\n",
              "    <tr>\n",
              "      <th>7</th>\n",
              "      <td>[글로벌캠퍼스]\\r\\nFinance &amp; AI융합학부\\r\\nFinance &amp; AI융합...</td>\n",
              "      <td>-3</td>\n",
              "    </tr>\n",
              "    <tr>\n",
              "      <th>8</th>\n",
              "      <td>이를 위하여 금융 및 ESG, 빅데이터 분석 및 AI,  글로벌 외국어·지역학 등 ...</td>\n",
              "      <td>-4</td>\n",
              "    </tr>\n",
              "    <tr>\n",
              "      <th>9</th>\n",
              "      <td>AI데이터융합학부\\r\\nAI데이터융합학부의 교육목표는 AI와 데이터에 대한 이해를 ...</td>\n",
              "      <td>-1</td>\n",
              "    </tr>\n",
              "    <tr>\n",
              "      <th>10</th>\n",
              "      <td>디지털콘텐츠학부\\r\\n디지털콘텐츠학부는 Culture &amp; Technology 융합대...</td>\n",
              "      <td>-6</td>\n",
              "    </tr>\n",
              "    <tr>\n",
              "      <th>11</th>\n",
              "      <td>투어리즘 &amp; 웰니스학부\\r\\n투어리즘 &amp; 웰니스학부는 역시 Culture &amp; Tec...</td>\n",
              "      <td>-4</td>\n",
              "    </tr>\n",
              "    <tr>\n",
              "      <th>12</th>\n",
              "      <td>반도체전자공학부\\r\\n반도체전자공학부는 ▲국제적 감각을 지닌 반도체 및 전자 공학 ...</td>\n",
              "      <td>-2</td>\n",
              "    </tr>\n",
              "    <tr>\n",
              "      <th>13</th>\n",
              "      <td>기후변화융합학부\\r\\n기후변화융합학부는 국내 최초로 학부과정에서 ▲온실가스 측정 및...</td>\n",
              "      <td>-1</td>\n",
              "    </tr>\n",
              "    <tr>\n",
              "      <th>14</th>\n",
              "      <td>사회과학적 소양과 자연과학·공학과의 융복합적 교육을 통해 미래의 기후 변화 관련 업...</td>\n",
              "      <td>-4</td>\n",
              "    </tr>\n",
              "    <tr>\n",
              "      <th>15</th>\n",
              "      <td>※ 관련기사 바로가기 - ‘AI, 반도체, 컬처 &amp; 테크놀러지, 기후변화 등 첨단 ...</td>\n",
              "      <td>-2</td>\n",
              "    </tr>\n",
              "    <tr>\n",
              "      <th>16</th>\n",
              "      <td>※ 신설학부 홈페이지 바로가기 : 학부명을 클릭하시면 바로 연결됩니다\\nLangua...</td>\n",
              "      <td>-3</td>\n",
              "    </tr>\n",
              "  </tbody>\n",
              "</table>\n",
              "</div>\n",
              "    <div class=\"colab-df-buttons\">\n",
              "\n",
              "  <div class=\"colab-df-container\">\n",
              "    <button class=\"colab-df-convert\" onclick=\"convertToInteractive('df-be01299b-b6c8-4dd0-a6b7-9ee7c5def43f')\"\n",
              "            title=\"Convert this dataframe to an interactive table.\"\n",
              "            style=\"display:none;\">\n",
              "\n",
              "  <svg xmlns=\"http://www.w3.org/2000/svg\" height=\"24px\" viewBox=\"0 -960 960 960\">\n",
              "    <path d=\"M120-120v-720h720v720H120Zm60-500h600v-160H180v160Zm220 220h160v-160H400v160Zm0 220h160v-160H400v160ZM180-400h160v-160H180v160Zm440 0h160v-160H620v160ZM180-180h160v-160H180v160Zm440 0h160v-160H620v160Z\"/>\n",
              "  </svg>\n",
              "    </button>\n",
              "\n",
              "  <style>\n",
              "    .colab-df-container {\n",
              "      display:flex;\n",
              "      gap: 12px;\n",
              "    }\n",
              "\n",
              "    .colab-df-convert {\n",
              "      background-color: #E8F0FE;\n",
              "      border: none;\n",
              "      border-radius: 50%;\n",
              "      cursor: pointer;\n",
              "      display: none;\n",
              "      fill: #1967D2;\n",
              "      height: 32px;\n",
              "      padding: 0 0 0 0;\n",
              "      width: 32px;\n",
              "    }\n",
              "\n",
              "    .colab-df-convert:hover {\n",
              "      background-color: #E2EBFA;\n",
              "      box-shadow: 0px 1px 2px rgba(60, 64, 67, 0.3), 0px 1px 3px 1px rgba(60, 64, 67, 0.15);\n",
              "      fill: #174EA6;\n",
              "    }\n",
              "\n",
              "    .colab-df-buttons div {\n",
              "      margin-bottom: 4px;\n",
              "    }\n",
              "\n",
              "    [theme=dark] .colab-df-convert {\n",
              "      background-color: #3B4455;\n",
              "      fill: #D2E3FC;\n",
              "    }\n",
              "\n",
              "    [theme=dark] .colab-df-convert:hover {\n",
              "      background-color: #434B5C;\n",
              "      box-shadow: 0px 1px 3px 1px rgba(0, 0, 0, 0.15);\n",
              "      filter: drop-shadow(0px 1px 2px rgba(0, 0, 0, 0.3));\n",
              "      fill: #FFFFFF;\n",
              "    }\n",
              "  </style>\n",
              "\n",
              "    <script>\n",
              "      const buttonEl =\n",
              "        document.querySelector('#df-be01299b-b6c8-4dd0-a6b7-9ee7c5def43f button.colab-df-convert');\n",
              "      buttonEl.style.display =\n",
              "        google.colab.kernel.accessAllowed ? 'block' : 'none';\n",
              "\n",
              "      async function convertToInteractive(key) {\n",
              "        const element = document.querySelector('#df-be01299b-b6c8-4dd0-a6b7-9ee7c5def43f');\n",
              "        const dataTable =\n",
              "          await google.colab.kernel.invokeFunction('convertToInteractive',\n",
              "                                                    [key], {});\n",
              "        if (!dataTable) return;\n",
              "\n",
              "        const docLinkHtml = 'Like what you see? Visit the ' +\n",
              "          '<a target=\"_blank\" href=https://colab.research.google.com/notebooks/data_table.ipynb>data table notebook</a>'\n",
              "          + ' to learn more about interactive tables.';\n",
              "        element.innerHTML = '';\n",
              "        dataTable['output_type'] = 'display_data';\n",
              "        await google.colab.output.renderOutput(dataTable, element);\n",
              "        const docLink = document.createElement('div');\n",
              "        docLink.innerHTML = docLinkHtml;\n",
              "        element.appendChild(docLink);\n",
              "      }\n",
              "    </script>\n",
              "  </div>\n",
              "\n",
              "\n",
              "<div id=\"df-e4d5309c-d2d7-40a5-bc64-6dd6561f43d5\">\n",
              "  <button class=\"colab-df-quickchart\" onclick=\"quickchart('df-e4d5309c-d2d7-40a5-bc64-6dd6561f43d5')\"\n",
              "            title=\"Suggest charts.\"\n",
              "            style=\"display:none;\">\n",
              "\n",
              "<svg xmlns=\"http://www.w3.org/2000/svg\" height=\"24px\"viewBox=\"0 0 24 24\"\n",
              "     width=\"24px\">\n",
              "    <g>\n",
              "        <path d=\"M19 3H5c-1.1 0-2 .9-2 2v14c0 1.1.9 2 2 2h14c1.1 0 2-.9 2-2V5c0-1.1-.9-2-2-2zM9 17H7v-7h2v7zm4 0h-2V7h2v10zm4 0h-2v-4h2v4z\"/>\n",
              "    </g>\n",
              "</svg>\n",
              "  </button>\n",
              "\n",
              "<style>\n",
              "  .colab-df-quickchart {\n",
              "      --bg-color: #E8F0FE;\n",
              "      --fill-color: #1967D2;\n",
              "      --hover-bg-color: #E2EBFA;\n",
              "      --hover-fill-color: #174EA6;\n",
              "      --disabled-fill-color: #AAA;\n",
              "      --disabled-bg-color: #DDD;\n",
              "  }\n",
              "\n",
              "  [theme=dark] .colab-df-quickchart {\n",
              "      --bg-color: #3B4455;\n",
              "      --fill-color: #D2E3FC;\n",
              "      --hover-bg-color: #434B5C;\n",
              "      --hover-fill-color: #FFFFFF;\n",
              "      --disabled-bg-color: #3B4455;\n",
              "      --disabled-fill-color: #666;\n",
              "  }\n",
              "\n",
              "  .colab-df-quickchart {\n",
              "    background-color: var(--bg-color);\n",
              "    border: none;\n",
              "    border-radius: 50%;\n",
              "    cursor: pointer;\n",
              "    display: none;\n",
              "    fill: var(--fill-color);\n",
              "    height: 32px;\n",
              "    padding: 0;\n",
              "    width: 32px;\n",
              "  }\n",
              "\n",
              "  .colab-df-quickchart:hover {\n",
              "    background-color: var(--hover-bg-color);\n",
              "    box-shadow: 0 1px 2px rgba(60, 64, 67, 0.3), 0 1px 3px 1px rgba(60, 64, 67, 0.15);\n",
              "    fill: var(--button-hover-fill-color);\n",
              "  }\n",
              "\n",
              "  .colab-df-quickchart-complete:disabled,\n",
              "  .colab-df-quickchart-complete:disabled:hover {\n",
              "    background-color: var(--disabled-bg-color);\n",
              "    fill: var(--disabled-fill-color);\n",
              "    box-shadow: none;\n",
              "  }\n",
              "\n",
              "  .colab-df-spinner {\n",
              "    border: 2px solid var(--fill-color);\n",
              "    border-color: transparent;\n",
              "    border-bottom-color: var(--fill-color);\n",
              "    animation:\n",
              "      spin 1s steps(1) infinite;\n",
              "  }\n",
              "\n",
              "  @keyframes spin {\n",
              "    0% {\n",
              "      border-color: transparent;\n",
              "      border-bottom-color: var(--fill-color);\n",
              "      border-left-color: var(--fill-color);\n",
              "    }\n",
              "    20% {\n",
              "      border-color: transparent;\n",
              "      border-left-color: var(--fill-color);\n",
              "      border-top-color: var(--fill-color);\n",
              "    }\n",
              "    30% {\n",
              "      border-color: transparent;\n",
              "      border-left-color: var(--fill-color);\n",
              "      border-top-color: var(--fill-color);\n",
              "      border-right-color: var(--fill-color);\n",
              "    }\n",
              "    40% {\n",
              "      border-color: transparent;\n",
              "      border-right-color: var(--fill-color);\n",
              "      border-top-color: var(--fill-color);\n",
              "    }\n",
              "    60% {\n",
              "      border-color: transparent;\n",
              "      border-right-color: var(--fill-color);\n",
              "    }\n",
              "    80% {\n",
              "      border-color: transparent;\n",
              "      border-right-color: var(--fill-color);\n",
              "      border-bottom-color: var(--fill-color);\n",
              "    }\n",
              "    90% {\n",
              "      border-color: transparent;\n",
              "      border-bottom-color: var(--fill-color);\n",
              "    }\n",
              "  }\n",
              "</style>\n",
              "\n",
              "  <script>\n",
              "    async function quickchart(key) {\n",
              "      const quickchartButtonEl =\n",
              "        document.querySelector('#' + key + ' button');\n",
              "      quickchartButtonEl.disabled = true;  // To prevent multiple clicks.\n",
              "      quickchartButtonEl.classList.add('colab-df-spinner');\n",
              "      try {\n",
              "        const charts = await google.colab.kernel.invokeFunction(\n",
              "            'suggestCharts', [key], {});\n",
              "      } catch (error) {\n",
              "        console.error('Error during call to suggestCharts:', error);\n",
              "      }\n",
              "      quickchartButtonEl.classList.remove('colab-df-spinner');\n",
              "      quickchartButtonEl.classList.add('colab-df-quickchart-complete');\n",
              "    }\n",
              "    (() => {\n",
              "      let quickchartButtonEl =\n",
              "        document.querySelector('#df-e4d5309c-d2d7-40a5-bc64-6dd6561f43d5 button');\n",
              "      quickchartButtonEl.style.display =\n",
              "        google.colab.kernel.accessAllowed ? 'block' : 'none';\n",
              "    })();\n",
              "  </script>\n",
              "</div>\n",
              "    </div>\n",
              "  </div>\n"
            ]
          },
          "metadata": {},
          "execution_count": 11
        }
      ]
    },
    {
      "cell_type": "markdown",
      "source": [
        "## 7. 뉴스 기사의 주제나 주요 토픽을 분석하기 위해 가장 많이 등장하는 명사를 찾아 출력하세요."
      ],
      "metadata": {
        "id": "y7QrySop80mU"
      }
    },
    {
      "cell_type": "code",
      "source": [
        "# !pip install konlpy"
      ],
      "metadata": {
        "colab": {
          "base_uri": "https://localhost:8080/"
        },
        "id": "NWyIVCDSi1We",
        "outputId": "656a8a9a-98ec-41bc-9741-ef0efb0b7a70"
      },
      "execution_count": null,
      "outputs": [
        {
          "output_type": "stream",
          "name": "stdout",
          "text": [
            "Collecting konlpy\n",
            "  Downloading konlpy-0.6.0-py2.py3-none-any.whl (19.4 MB)\n",
            "\u001b[2K     \u001b[90m━━━━━━━━━━━━━━━━━━━━━━━━━━━━━━━━━━━━━━━━\u001b[0m \u001b[32m19.4/19.4 MB\u001b[0m \u001b[31m29.7 MB/s\u001b[0m eta \u001b[36m0:00:00\u001b[0m\n",
            "\u001b[?25hCollecting JPype1>=0.7.0 (from konlpy)\n",
            "  Downloading JPype1-1.4.1-cp310-cp310-manylinux_2_12_x86_64.manylinux2010_x86_64.whl (465 kB)\n",
            "\u001b[2K     \u001b[90m━━━━━━━━━━━━━━━━━━━━━━━━━━━━━━━━━━━━━━\u001b[0m \u001b[32m465.3/465.3 kB\u001b[0m \u001b[31m29.8 MB/s\u001b[0m eta \u001b[36m0:00:00\u001b[0m\n",
            "\u001b[?25hRequirement already satisfied: lxml>=4.1.0 in /usr/local/lib/python3.10/dist-packages (from konlpy) (4.9.3)\n",
            "Requirement already satisfied: numpy>=1.6 in /usr/local/lib/python3.10/dist-packages (from konlpy) (1.23.5)\n",
            "Requirement already satisfied: packaging in /usr/local/lib/python3.10/dist-packages (from JPype1>=0.7.0->konlpy) (23.1)\n",
            "Installing collected packages: JPype1, konlpy\n",
            "Successfully installed JPype1-1.4.1 konlpy-0.6.0\n"
          ]
        }
      ]
    },
    {
      "cell_type": "code",
      "source": [
        "from konlpy.tag import Okt"
      ],
      "metadata": {
        "id": "4ZwRY0YnrDT_"
      },
      "execution_count": null,
      "outputs": []
    },
    {
      "cell_type": "code",
      "source": [
        "stop_words = [\"은\", \"는\", \"이\", \"가\", \"하\", \"아\", \"것\", \"들\", \"의\", \"있\", \"되\", \"수\", \"보\", \"주\", \"등\", \"한\", \"및\"]\n",
        "okt = Okt()\n",
        "\n",
        "nouns = []\n",
        "for txt in txt_list:\n",
        "    if isinstance(txt, str):\n",
        "        words = okt.nouns(txt)\n",
        "        words = [word for word in words if word not in stop_words]\n",
        "        nouns.extend(words)\n",
        "\n",
        "noun_freq = FreqDist(nouns)\n",
        "top_nouns = noun_freq.most_common(10)\n",
        "\n",
        "for noun, freq in top_nouns:\n",
        "    print(f'{noun}: {freq}회')"
      ],
      "metadata": {
        "colab": {
          "base_uri": "https://localhost:8080/"
        },
        "id": "QR0x6kAb84it",
        "outputId": "4c9ed640-d099-4f1a-d67f-9b0c8d6193c5"
      },
      "execution_count": null,
      "outputs": [
        {
          "output_type": "stream",
          "name": "stdout",
          "text": [
            "융합: 27회\n",
            "학부: 25회\n",
            "인재: 20회\n",
            "양성: 17회\n",
            "데이터: 12회\n",
            "변화: 9회\n",
            "능력: 8회\n",
            "목표: 8회\n",
            "글로벌: 7회\n",
            "기술: 7회\n"
          ]
        }
      ]
    },
    {
      "cell_type": "markdown",
      "source": [
        "## 8. 크롤링한 기사를 요약하는 알고리즘을 개발하고, 기사의 요약된 내용을 출력하세요(딥/머신러닝 팀만 해당)"
      ],
      "metadata": {
        "id": "TO4DLFre85Go"
      }
    },
    {
      "cell_type": "markdown",
      "source": [
        "우리는 시계열!"
      ],
      "metadata": {
        "id": "ueFtmtQRjFfj"
      }
    }
  ]
}