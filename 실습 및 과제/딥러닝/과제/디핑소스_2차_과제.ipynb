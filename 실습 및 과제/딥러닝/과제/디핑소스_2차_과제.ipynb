{
 "cells": [
  {
   "cell_type": "code",
   "execution_count": 38,
   "metadata": {},
   "outputs": [
    {
     "name": "stderr",
     "output_type": "stream",
     "text": [
      "[nltk_data] Downloading package punkt to /Users/ihobbang/nltk_data...\n",
      "[nltk_data]   Package punkt is already up-to-date!\n",
      "[nltk_data] Downloading package stopwords to\n",
      "[nltk_data]     /Users/ihobbang/nltk_data...\n",
      "[nltk_data]   Package stopwords is already up-to-date!\n",
      "[nltk_data] Downloading package averaged_perceptron_tagger to\n",
      "[nltk_data]     /Users/ihobbang/nltk_data...\n",
      "[nltk_data]   Package averaged_perceptron_tagger is already up-to-\n",
      "[nltk_data]       date!\n",
      "[nltk_data] Downloading package opinion_lexicon to\n",
      "[nltk_data]     /Users/ihobbang/nltk_data...\n",
      "[nltk_data]   Package opinion_lexicon is already up-to-date!\n"
     ]
    },
    {
     "data": {
      "text/plain": [
       "True"
      ]
     },
     "execution_count": 38,
     "metadata": {},
     "output_type": "execute_result"
    }
   ],
   "source": [
    "from newspaper import Article\n",
    "\n",
    "import nltk\n",
    "from nltk.tokenize import sent_tokenize, word_tokenize\n",
    "from nltk.probability import FreqDist\n",
    "from nltk.corpus import stopwords\n",
    "from nltk.corpus import opinion_lexicon\n",
    "from nltk.tag import pos_tag\n",
    "\n",
    "from collections import Counter\n",
    "\n",
    "nltk.download('punkt')\n",
    "nltk.download('stopwords')\n",
    "nltk.download('averaged_perceptron_tagger')\n",
    "nltk.download('opinion_lexicon')"
   ]
  },
  {
   "cell_type": "code",
   "execution_count": 56,
   "metadata": {},
   "outputs": [],
   "source": [
    "# 기사 다운로드 및 텍스트 파싱\n",
    "url = 'https://finance.yahoo.com/news/exclusive-unilever-launches-bid-sell-133434534.html'\n",
    "\n",
    "article = Article(url)\n",
    "article.download()\n",
    "article.parse()\n",
    "\n",
    "text = article.text"
   ]
  },
  {
   "cell_type": "code",
   "execution_count": 57,
   "metadata": {},
   "outputs": [
    {
     "name": "stdout",
     "output_type": "stream",
     "text": [
      "By Abigail Summerville\n",
      "\n",
      "(Reuters) - Unilever Plc has hired investment banks Morgan Stanley and Evercore Inc to sell a basket of non-core beauty and personal care brands that include Q-Tips and Impulse, reviving an effort it abandoned two years ago, according to people familiar with the matter.\n",
      "\n",
      "The revival of the sale process, which has not been previously reported, represents the first major move by Hein Schumacher, who took over as Unilever's chief executive in July with a focus to streamline its business as it grapples with inflation.\n",
      "\n",
      "The brand portfolio, known as Elida Beauty, also includes Caress, TIGI, Timotei, Monsavon, St. Ives, Zwitsal, Ponds, Brut, Moussel, Alberto Balsam and Matey. Elida generated about $760 million in revenue in 2022, according to the sources.\n",
      "\n",
      "Unilever worked with Credit Suisse in 2021 to divest Elida but pulled the process later that year, after cherry-picking of the brands for sale by other consumer companies led to offers that did not meet its valuation expectations, the sources said.\n",
      "\n",
      "Since then, Unilever has worked to make Elida an autonomous unit that could also appeal in its entirety to private equity firms, the sources added. Morgan Stanley and Evercore have now contacted several parties to gauge acquisition interest in Elida for what could be a multi-billion-dollar deal, according to the sources.\n",
      "\n",
      "The sources requested anonymity because the matter is confidential. Unilever, Morgan Stanley and Evercore declined to comment.\n",
      "\n",
      "The consumer goods industry has struggled with soaring costs for about two years, as everything from sunflower oil and shipping to packaging and grain has become more expensive. This has prompted Unilever, the maker of Dove soap and Ben & Jerry's ice cream, to review its portfolio of non-core assets it can sell to raise cash.\n",
      "\n",
      "Unilever beat underlying sales growth forecasts in the second quarter after raising prices to offset the higher costs. It has also considered selling some of its U.S. ice cream brands, including Klondike and Breyers.\n",
      "\n",
      "(Reporting by Abigail Summerville in New York; Additional reporting by Richa Naidu in London; Editing by Chizu Nomiyama)\n"
     ]
    }
   ],
   "source": [
    "print(text)"
   ]
  },
  {
   "cell_type": "code",
   "execution_count": 58,
   "metadata": {},
   "outputs": [
    {
     "name": "stdout",
     "output_type": "stream",
     "text": [
      "unilever: 7\n",
      "elida: 5\n",
      "sources: 5\n",
      "morgan: 3\n",
      "stanley: 3\n",
      "evercore: 3\n",
      "brands: 3\n",
      "according: 3\n",
      "also: 3\n",
      "abigail: 2\n"
     ]
    }
   ],
   "source": [
    "# 단어 토큰화\n",
    "words = word_tokenize(text)\n",
    "\n",
    "# 불용어(stopwords) 제거\n",
    "stop_words = set(stopwords.words('english'))\n",
    "filtered_tokens = [word.lower() for word in words if word.isalnum() and word.lower() not in stop_words]\n",
    "\n",
    "# 각 단어의 빈도 계산\n",
    "freq_dist = FreqDist(filtered_tokens)\n",
    "\n",
    "# 빈도가 가장 높은 상위 단어 출력 (예: 상위 10개)\n",
    "most_common_words = freq_dist.most_common(10)\n",
    "\n",
    "for word, frequency in most_common_words:\n",
    "    print(f'{word}: {frequency}')"
   ]
  },
  {
   "cell_type": "code",
   "execution_count": 59,
   "metadata": {},
   "outputs": [
    {
     "name": "stdout",
     "output_type": "stream",
     "text": [
      "문장의 평균 길이: 27.857142857142858\n"
     ]
    }
   ],
   "source": [
    "# 문장 토큰화\n",
    "sentences = sent_tokenize(text)\n",
    "\n",
    "# 각 문장의 길이 측정\n",
    "sentence_lengths = [len(word_tokenize(sentence)) for sentence in sentences]\n",
    "\n",
    "# 평균 문장 길이 계산\n",
    "average_sentence_length = sum(sentence_lengths) / len(sentence_lengths)\n",
    "\n",
    "print(f\"문장의 평균 길이: {average_sentence_length}\")"
   ]
  },
  {
   "cell_type": "code",
   "execution_count": 60,
   "metadata": {},
   "outputs": [
    {
     "name": "stdout",
     "output_type": "stream",
     "text": [
      "긍정적인 단어 빈도: 7\n",
      "부정적인 단어 빈도: 2\n"
     ]
    }
   ],
   "source": [
    "positive_words = set(opinion_lexicon.positive())\n",
    "negative_words = set(opinion_lexicon.negative())\n",
    "\n",
    "# 긍정적인 단어와 부정적인 단어의 빈도 계산\n",
    "positive_word_count = sum(1 for word in words if word in positive_words)\n",
    "negative_word_count = sum(1 for word in words if word in negative_words)\n",
    "\n",
    "# 결과 출력\n",
    "print(f\"긍정적인 단어 빈도: {positive_word_count}\")\n",
    "print(f\"부정적인 단어 빈도: {negative_word_count}\")"
   ]
  },
  {
   "cell_type": "code",
   "execution_count": 61,
   "metadata": {},
   "outputs": [
    {
     "name": "stdout",
     "output_type": "stream",
     "text": [
      "Unilever: 7\n"
     ]
    }
   ],
   "source": [
    "# 텍스트에서 명사 추출\n",
    "def extract_nouns(text):\n",
    "    tokens = word_tokenize(text)\n",
    "    tagged = pos_tag(tokens)\n",
    "    nouns = [word for word, tag in tagged if tag in ['NN', 'NNS', 'NNP', 'NNPS']]  # 명사 태그를 포함하는 단어 추출\n",
    "    return nouns\n",
    "\n",
    "nouns = extract_nouns(text)\n",
    "\n",
    "# 명사 빈도 계산\n",
    "noun_freq = Counter(nouns)\n",
    "\n",
    "# 가장 많이 등장하는 명사 출력 \n",
    "most_common_nouns = noun_freq.most_common(1)\n",
    "\n",
    "for noun, freq in most_common_nouns:\n",
    "    print(f'{noun}: {freq}')"
   ]
  },
  {
   "cell_type": "code",
   "execution_count": 62,
   "metadata": {},
   "outputs": [],
   "source": [
    "from transformers import pipeline\n",
    "\n",
    "summarizer = pipeline(\"summarization\", model=\"facebook/bart-large-cnn\")"
   ]
  },
  {
   "cell_type": "code",
   "execution_count": 63,
   "metadata": {},
   "outputs": [
    {
     "name": "stdout",
     "output_type": "stream",
     "text": [
      "[{'summary_text': \"Unilever has hired investment banks Morgan Stanley and Evercore Inc to sell a basket of non-core beauty and personal care brands. The revival of the sale process represents the first major move by Hein Schumacher, who took over as Unilever's chief executive.\"}]\n"
     ]
    }
   ],
   "source": [
    "print(summarizer(text, max_length=100, min_length=30, do_sample=False))"
   ]
  }
 ],
 "metadata": {
  "kernelspec": {
   "display_name": "main",
   "language": "python",
   "name": "python3"
  },
  "language_info": {
   "codemirror_mode": {
    "name": "ipython",
    "version": 3
   },
   "file_extension": ".py",
   "mimetype": "text/x-python",
   "name": "python",
   "nbconvert_exporter": "python",
   "pygments_lexer": "ipython3",
   "version": "3.8.16"
  },
  "orig_nbformat": 4
 },
 "nbformat": 4,
 "nbformat_minor": 2
}
