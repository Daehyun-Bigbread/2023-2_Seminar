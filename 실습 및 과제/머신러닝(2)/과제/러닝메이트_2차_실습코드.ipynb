{
 "cells": [
  {
   "cell_type": "code",
   "execution_count": 1,
   "metadata": {},
   "outputs": [],
   "source": [
    "#셀레니옴 기본 설정 코드\n",
    "from selenium import webdriver\n",
    "from selenium.webdriver.chrome.options import Options\n",
    "from webdriver_manager.chrome import ChromeDriverManager\n",
    "from selenium.webdriver.common.keys import Keys\n",
    "import time\n",
    "import json\n",
    "from selenium.webdriver.common.by import By\n",
    "from selenium.webdriver.support.ui import WebDriverWait\n",
    "from selenium.webdriver.support import expected_conditions as EC\n",
    "import csv\n",
    "from selenium.common.exceptions import NoSuchElementException\n",
    "from selenium.common.exceptions import NoSuchWindowException\n",
    "from selenium.common.exceptions import TimeoutException\n",
    "from selenium.webdriver.common.by import By\n",
    "from selenium.webdriver.support.ui import WebDriverWait\n",
    "from selenium.webdriver.support import expected_conditions as EC\n",
    "from selenium.common.exceptions import NoSuchElementException, TimeoutException, StaleElementReferenceException\n",
    "import requests"
   ]
  },
  {
   "cell_type": "code",
   "execution_count": 2,
   "metadata": {},
   "outputs": [],
   "source": [
    "# url = input(\"분석하고 싶은 뉴스 URL을 입력하세요.\")\n",
    "url = \"https://www.hankyung.com/article/2023091883781\""
   ]
  },
  {
   "cell_type": "code",
   "execution_count": 3,
   "metadata": {},
   "outputs": [],
   "source": [
    "options = Options()\n",
    "options.add_argument('user-agent=Mozilla/5.0 (Windows NT 10.0; Win64; x64) AppleWebKit/537.36 (KHTML, like Gecko) Chrome/115.0.0.0 Safari/537.36') #인간이라는 user-agent 제공\n",
    "driver = webdriver.Chrome(options=options)\n",
    "driver.get(url)\n",
    "driver.maximize_window()\n",
    "driver.implicitly_wait(10) #페이지 로딩 전 10초 기다리기"
   ]
  },
  {
   "attachments": {},
   "cell_type": "markdown",
   "metadata": {},
   "source": [
    "1. 원하는 기사를 찾은 후 해당 페이지 URL에서 뉴스 기사 텍스트 데이터를 크롤링하세요"
   ]
  },
  {
   "cell_type": "code",
   "execution_count": 4,
   "metadata": {},
   "outputs": [
    {
     "name": "stdout",
     "output_type": "stream",
     "text": [
      "토스(비바리퍼블리카)의 결제 서비스 자회사 토스페이먼츠가 중국 최대 전자상거래 기업인 알리바바 산하 핀테크 기업 앤트그룹을 전략적 파트너로 맞아들였다. 앤트그룹은 토스페이먼츠의 재무적 투자자(FI)가 보유하고 있던 지분을 비롯해 약 40%의 실질 지분을 확보하며 2대 주주로 올라섰다.\n",
      "\n",
      "앤트그룹은 13억 명이 사용하는 세계 최대 온라인 결제 서비스 알리페이를 운영하는 회사다. 글로벌 진출을 도모해온 토스페이먼츠는 앤트그룹과의 제휴를 통해 해외 결제사업에 속도를 낸다는 전략이다.\n",
      "이미지 크게보기\n",
      "\n",
      "\n",
      "광고\n",
      "토스페이먼츠에 1000억원대 투자\n",
      "18일 투자은행(IB)업계에 따르면 앤트그룹은 최근 토스페이먼츠 대주주인 투자목적회사(SPC) 블리츠패스트 지분 72%를 사들였다. FI 컨소시엄(LB프라이빗에쿼티·프리미어파트너스)이 블리츠패스트를 통해 간접 보유해온 토스페이먼츠 지분 36%를 확보하기 위해서다. 투자 규모는 1000억원대로 알려졌다. 이번 거래로 2020년 토스페이먼츠 인수에 참여한 FI들은 3년 만에 투자금을 모두 회수했다.\n",
      "\n",
      "앤트그룹은 토스페이먼츠가 추진한 수백억원대 유상증자에도 참여해 직접 보유 지분까지 추가 확보한 것으로 알려졌다. 실질 지분율로 따지면 비바리퍼블리카에 이어 2대 주주가 됐다.\n",
      "\n",
      "이번 거래로 토스페이먼츠 이사회의 40%는 앤트그룹 인사로 채워졌다. FI 대표 두 명이 물러난 자리에 앤트그룹 인사 두 명이 선임되면서다. 앤트그룹의 양펑 인터내셔널비즈니스그룹(IBG) 대표와 정형권 한국 총괄대표가 지난 12일 등기이사에 올랐다. 정 대표는 앤트그룹의 알리페이가 2대 주주로 있는 카카오페이에서 2017년부터 지켜온 이사직을 사임하고 토스페이먼츠 이사회에 합류했다. 토스페이먼츠 관계자는 “이사회에 앤트그룹 측 인사가 새로 선임된 것은 맞다”면서도 “향후 계획은 구체적으로 정해진 게 없다”고 했다.\n",
      "\n",
      "토스페이먼츠, 글로벌 진출에 ‘속도’\n",
      "토스페이먼츠는 이번 거래로 초기 투자자의 엑시트를 마무리하고 앤트그룹이라는 ‘대어급’ 전략적 파트너를 확보했다. 스타트업 업계 관계자는 “재무적으로 큰 짐을 덜고 본격적인 사업 확장에 나설 수 있는 다음 라운드를 연 셈”이라고 했다.\n",
      "\n",
      "토스페이먼츠는 앤트그룹과의 파트너십을 통해 글로벌 진출에 날개를 달았다는 평가다. 마진이 높은 국가 간 결제 사업은 수익성 확보가 절실한 토스의 핵심 미래 먹거리로 꼽힌다. 포화 상태인 국내 전자결제대행(PG)·간편결제 시장 대신 급성장하는 해외 직구·역직구 수요를 흡수하고 글로벌로 나아가겠다는 구상이다.\n",
      "\n",
      "중국과 동남아시아를 중심으로 사용자 13억 명, 가맹점 8000만 곳을 이미 확보한 알리페이와 협업하면 ‘속도전’이 가능하다. 해외 가맹점과 일일이 직접 계약을 맺을 필요가 없어서다.\n",
      "\n",
      "알리페이와 토스페이먼츠의 결제 인프라가 연동되면 알리페이를 쓰는 외국인은 토스페이먼츠의 국내 온라인 쇼핑몰 10만여 곳에서 알리페이로 결제하는 게 가능해진다. 한국 소비자도 앤트그룹에 가맹한 해외 브랜드 쇼핑몰에서 토스페이로 바로 결제할 수 있다.\n",
      "\n",
      "한국 시장 공략을 강화해온 앤트그룹으로서도 ‘윈윈’이 예상된다. 2017년부터 카카오페이와 협업 관계를 맺어온 앤트그룹은 올 들어 제로페이 네이버페이 등과 제휴를 시작한 데 이어 토스페이먼츠에 지분 투자까지 단행했다. 토스페이먼츠가 구글 스포티파이 등 글로벌 사업자와 협업한 경험과 국내에서 PG 네트워크를 안정적으로 운영해온 노하우를 높이 산 것으로 전해졌다.\n",
      "\n",
      "빈난새 기자 binthere@hankyung.com\n"
     ]
    }
   ],
   "source": [
    "context = driver.find_element(By.CSS_SELECTOR, \".article-body\").text #find_element class를 찾음 그 class 이름은 \"article-body\"\n",
    "print(context)\n"
   ]
  },
  {
   "cell_type": "code",
   "execution_count": 5,
   "metadata": {},
   "outputs": [
    {
     "name": "stderr",
     "output_type": "stream",
     "text": [
      "[nltk_data] Downloading collection 'popular'\n",
      "[nltk_data]    | \n",
      "[nltk_data]    | Downloading package cmudict to\n",
      "[nltk_data]    |     C:\\Users\\vivid\\AppData\\Roaming\\nltk_data...\n",
      "[nltk_data]    |   Package cmudict is already up-to-date!\n",
      "[nltk_data]    | Downloading package gazetteers to\n",
      "[nltk_data]    |     C:\\Users\\vivid\\AppData\\Roaming\\nltk_data...\n",
      "[nltk_data]    |   Package gazetteers is already up-to-date!\n",
      "[nltk_data]    | Downloading package genesis to\n",
      "[nltk_data]    |     C:\\Users\\vivid\\AppData\\Roaming\\nltk_data...\n",
      "[nltk_data]    |   Package genesis is already up-to-date!\n",
      "[nltk_data]    | Downloading package gutenberg to\n",
      "[nltk_data]    |     C:\\Users\\vivid\\AppData\\Roaming\\nltk_data...\n",
      "[nltk_data]    |   Package gutenberg is already up-to-date!\n",
      "[nltk_data]    | Downloading package inaugural to\n",
      "[nltk_data]    |     C:\\Users\\vivid\\AppData\\Roaming\\nltk_data...\n",
      "[nltk_data]    |   Package inaugural is already up-to-date!\n",
      "[nltk_data]    | Downloading package movie_reviews to\n",
      "[nltk_data]    |     C:\\Users\\vivid\\AppData\\Roaming\\nltk_data...\n",
      "[nltk_data]    |   Package movie_reviews is already up-to-date!\n",
      "[nltk_data]    | Downloading package names to\n",
      "[nltk_data]    |     C:\\Users\\vivid\\AppData\\Roaming\\nltk_data...\n",
      "[nltk_data]    |   Package names is already up-to-date!\n",
      "[nltk_data]    | Downloading package shakespeare to\n",
      "[nltk_data]    |     C:\\Users\\vivid\\AppData\\Roaming\\nltk_data...\n",
      "[nltk_data]    |   Package shakespeare is already up-to-date!\n",
      "[nltk_data]    | Downloading package stopwords to\n",
      "[nltk_data]    |     C:\\Users\\vivid\\AppData\\Roaming\\nltk_data...\n",
      "[nltk_data]    |   Package stopwords is already up-to-date!\n",
      "[nltk_data]    | Downloading package treebank to\n",
      "[nltk_data]    |     C:\\Users\\vivid\\AppData\\Roaming\\nltk_data...\n",
      "[nltk_data]    |   Package treebank is already up-to-date!\n",
      "[nltk_data]    | Downloading package twitter_samples to\n",
      "[nltk_data]    |     C:\\Users\\vivid\\AppData\\Roaming\\nltk_data...\n",
      "[nltk_data]    |   Package twitter_samples is already up-to-date!\n",
      "[nltk_data]    | Downloading package omw to\n",
      "[nltk_data]    |     C:\\Users\\vivid\\AppData\\Roaming\\nltk_data...\n",
      "[nltk_data]    |   Package omw is already up-to-date!\n",
      "[nltk_data]    | Downloading package omw-1.4 to\n",
      "[nltk_data]    |     C:\\Users\\vivid\\AppData\\Roaming\\nltk_data...\n",
      "[nltk_data]    |   Package omw-1.4 is already up-to-date!\n",
      "[nltk_data]    | Downloading package wordnet to\n",
      "[nltk_data]    |     C:\\Users\\vivid\\AppData\\Roaming\\nltk_data...\n",
      "[nltk_data]    |   Package wordnet is already up-to-date!\n",
      "[nltk_data]    | Downloading package wordnet2021 to\n",
      "[nltk_data]    |     C:\\Users\\vivid\\AppData\\Roaming\\nltk_data...\n",
      "[nltk_data]    |   Package wordnet2021 is already up-to-date!\n",
      "[nltk_data]    | Downloading package wordnet31 to\n",
      "[nltk_data]    |     C:\\Users\\vivid\\AppData\\Roaming\\nltk_data...\n",
      "[nltk_data]    |   Package wordnet31 is already up-to-date!\n",
      "[nltk_data]    | Downloading package wordnet_ic to\n",
      "[nltk_data]    |     C:\\Users\\vivid\\AppData\\Roaming\\nltk_data...\n",
      "[nltk_data]    |   Package wordnet_ic is already up-to-date!\n",
      "[nltk_data]    | Downloading package words to\n",
      "[nltk_data]    |     C:\\Users\\vivid\\AppData\\Roaming\\nltk_data...\n",
      "[nltk_data]    |   Package words is already up-to-date!\n",
      "[nltk_data]    | Downloading package maxent_ne_chunker to\n",
      "[nltk_data]    |     C:\\Users\\vivid\\AppData\\Roaming\\nltk_data...\n",
      "[nltk_data]    |   Package maxent_ne_chunker is already up-to-date!\n",
      "[nltk_data]    | Downloading package punkt to\n",
      "[nltk_data]    |     C:\\Users\\vivid\\AppData\\Roaming\\nltk_data...\n",
      "[nltk_data]    |   Package punkt is already up-to-date!\n",
      "[nltk_data]    | Downloading package snowball_data to\n",
      "[nltk_data]    |     C:\\Users\\vivid\\AppData\\Roaming\\nltk_data...\n",
      "[nltk_data]    |   Package snowball_data is already up-to-date!\n",
      "[nltk_data]    | Downloading package averaged_perceptron_tagger to\n",
      "[nltk_data]    |     C:\\Users\\vivid\\AppData\\Roaming\\nltk_data...\n",
      "[nltk_data]    |   Package averaged_perceptron_tagger is already up-\n",
      "[nltk_data]    |       to-date!\n",
      "[nltk_data]    | \n",
      "[nltk_data]  Done downloading collection popular\n"
     ]
    },
    {
     "data": {
      "text/plain": [
       "True"
      ]
     },
     "execution_count": 5,
     "metadata": {},
     "output_type": "execute_result"
    }
   ],
   "source": [
    "import nltk\n",
    "nltk.download('popular')"
   ]
  },
  {
   "cell_type": "code",
   "execution_count": 6,
   "metadata": {},
   "outputs": [],
   "source": [
    "from nltk.tokenize import word_tokenize\n",
    "from nltk.tokenize import WordPunctTokenizer\n",
    "import re\n",
    "# from tensorflow.keras.preprocessing.text import text_to_word_sequence"
   ]
  },
  {
   "attachments": {},
   "cell_type": "markdown",
   "metadata": {},
   "source": [
    "2. 크롤링한 텍스트 데이터를 토큰화하고, 각 단어의 빈도를 계산하세요."
   ]
  },
  {
   "cell_type": "code",
   "execution_count": 7,
   "metadata": {},
   "outputs": [
    {
     "name": "stdout",
     "output_type": "stream",
     "text": [
      "단어 토큰화1 : ['토스', '(', '비바리퍼블리카', ')', '의', '결제', '서비스', '자회사', '토스페이먼츠가', '중국', '최대', '전자상거래', '기업인', '알리바바', '산하', '핀테크', '기업', '앤트그룹을', '전략적', '파트너로', '맞아들였다', '.', '앤트그룹은', '토스페이먼츠의', '재무적', '투자자', '(', 'FI', ')', '가', '보유하고', '있던', '지분을', '비롯해', '약', '40', '%', '의', '실질', '지분을', '확보하며', '2대', '주주로', '올라섰다', '.', '앤트그룹은', '13억', '명이', '사용하는', '세계', '최대', '온라인', '결제', '서비스', '알리페이를', '운영하는', '회사다', '.', '글로벌', '진출을', '도모해온', '토스페이먼츠는', '앤트그룹과의', '제휴를', '통해', '해외', '결제사업에', '속도를', '낸다는', '전략이다', '.', '이미지', '크게보기', '광고', '토스페이먼츠에', '1000억원대', '투자', '18일', '투자은행', '(', 'IB', ')', '업계에', '따르면', '앤트그룹은', '최근', '토스페이먼츠', '대주주인', '투자목적회사', '(', 'SPC', ')', '블리츠패스트', '지분', '72', '%', '를', '사들였다', '.', 'FI', '컨소시엄', '(', 'LB프라이빗에쿼티·프리미어파트너스', ')', '이', '블리츠패스트를', '통해', '간접', '보유해온', '토스페이먼츠', '지분', '36', '%', '를', '확보하기', '위해서다', '.', '투자', '규모는', '1000억원대로', '알려졌다', '.', '이번', '거래로', '2020년', '토스페이먼츠', '인수에', '참여한', 'FI들은', '3년', '만에', '투자금을', '모두', '회수했다', '.', '앤트그룹은', '토스페이먼츠가', '추진한', '수백억원대', '유상증자에도', '참여해', '직접', '보유', '지분까지', '추가', '확보한', '것으로', '알려졌다', '.', '실질', '지분율로', '따지면', '비바리퍼블리카에', '이어', '2대', '주주가', '됐다', '.', '이번', '거래로', '토스페이먼츠', '이사회의', '40', '%', '는', '앤트그룹', '인사로', '채워졌다', '.', 'FI', '대표', '두', '명이', '물러난', '자리에', '앤트그룹', '인사', '두', '명이', '선임되면서다', '.', '앤트그룹의', '양펑', '인터내셔널비즈니스그룹', '(', 'IBG', ')', '대표와', '정형권', '한국', '총괄대표가', '지난', '12일', '등기이사에', '올랐다', '.', '정', '대표는', '앤트그룹의', '알리페이가', '2대', '주주로', '있는', '카카오페이에서', '2017년부터', '지켜온', '이사직을', '사임하고', '토스페이먼츠', '이사회에', '합류했다', '.', '토스페이먼츠', '관계자는', '“', '이사회에', '앤트그룹', '측', '인사가', '새로', '선임된', '것은', '맞다', '”', '면서도', '“', '향후', '계획은', '구체적으로', '정해진', '게', '없다', '”', '고', '했다', '.', '토스페이먼츠', ',', '글로벌', '진출에', '‘', '속도', '’', '토스페이먼츠는', '이번', '거래로', '초기', '투자자의', '엑시트를', '마무리하고', '앤트그룹이라는', '‘', '대어급', '’', '전략적', '파트너를', '확보했다', '.', '스타트업', '업계', '관계자는', '“', '재무적으로', '큰', '짐을', '덜고', '본격적인', '사업', '확장에', '나설', '수', '있는', '다음', '라운드를', '연', '셈', '”', '이라고', '했다', '.', '토스페이먼츠는', '앤트그룹과의', '파트너십을', '통해', '글로벌', '진출에', '날개를', '달았다는', '평가다', '.', '마진이', '높은', '국가', '간', '결제', '사업은', '수익성', '확보가', '절실한', '토스의', '핵심', '미래', '먹거리로', '꼽힌다', '.', '포화', '상태인', '국내', '전자결제대행', '(', 'PG', ')', '·간편결제', '시장', '대신', '급성장하는', '해외', '직구·역직구', '수요를', '흡수하고', '글로벌로', '나아가겠다는', '구상이다', '.', '중국과', '동남아시아를', '중심으로', '사용자', '13억', '명', ',', '가맹점', '8000만', '곳을', '이미', '확보한', '알리페이와', '협업하면', '‘', '속도전', '’', '이', '가능하다', '.', '해외', '가맹점과', '일일이', '직접', '계약을', '맺을', '필요가', '없어서다', '.', '알리페이와', '토스페이먼츠의', '결제', '인프라가', '연동되면', '알리페이를', '쓰는', '외국인은', '토스페이먼츠의', '국내', '온라인', '쇼핑몰', '10만여', '곳에서', '알리페이로', '결제하는', '게', '가능해진다', '.', '한국', '소비자도', '앤트그룹에', '가맹한', '해외', '브랜드', '쇼핑몰에서', '토스페이로', '바로', '결제할', '수', '있다', '.', '한국', '시장', '공략을', '강화해온', '앤트그룹으로서도', '‘', '윈윈', '’', '이', '예상된다', '.', '2017년부터', '카카오페이와', '협업', '관계를', '맺어온', '앤트그룹은', '올', '들어', '제로페이', '네이버페이', '등과', '제휴를', '시작한', '데', '이어', '토스페이먼츠에', '지분', '투자까지', '단행했다', '.', '토스페이먼츠가', '구글', '스포티파이', '등', '글로벌', '사업자와', '협업한', '경험과', '국내에서', 'PG', '네트워크를', '안정적으로', '운영해온', '노하우를', '높이', '산', '것으로', '전해졌다', '.', '빈난새', '기자', 'binthere', '@', 'hankyung.com']\n"
     ]
    }
   ],
   "source": [
    "print('단어 토큰화1 :', word_tokenize(context))\n",
    "context_tokenize = word_tokenize(context)"
   ]
  },
  {
   "attachments": {},
   "cell_type": "markdown",
   "metadata": {},
   "source": [
    "3. 가장 빈도가 높은 단어 10개를 찾아 출력하세요."
   ]
  },
  {
   "cell_type": "code",
   "execution_count": 8,
   "metadata": {},
   "outputs": [
    {
     "name": "stdout",
     "output_type": "stream",
     "text": [
      "[('.', 27), ('(', 7), (')', 7), ('토스페이먼츠', 7), ('앤트그룹은', 5), ('결제', 4), ('%', 4), ('글로벌', 4), ('해외', 4), ('‘', 4)]\n"
     ]
    }
   ],
   "source": [
    "from nltk import FreqDist\n",
    "freq_context = FreqDist(context_tokenize)\n",
    "print(freq_context.most_common(10)) #most_common(10) 10개만 보기"
   ]
  },
  {
   "attachments": {},
   "cell_type": "markdown",
   "metadata": {},
   "source": [
    "##stopwords(불용어) 통해서 전처리 해보기"
   ]
  },
  {
   "cell_type": "code",
   "execution_count": 73,
   "metadata": {},
   "outputs": [],
   "source": [
    "stopwords = [\".\", \"(\", \")\", \"\\'\", '(', ')', \"'\", '.', ',', '!', '?', '‘', '’', \"이미지\", \"크게보기\", \"광고\"]"
   ]
  },
  {
   "attachments": {},
   "cell_type": "markdown",
   "metadata": {},
   "source": [
    "3. 가장 빈도가 높은 단어 10개를 찾아 출력하세요. (전처리 후)"
   ]
  },
  {
   "cell_type": "code",
   "execution_count": 74,
   "metadata": {},
   "outputs": [
    {
     "name": "stdout",
     "output_type": "stream",
     "text": [
      "[('토스페이먼츠', 7), ('앤트그룹은', 5), ('결제', 4), ('%', 4), ('글로벌', 4), ('해외', 4), ('토스페이먼츠가', 3), ('토스페이먼츠의', 3), ('FI', 3), ('2대', 3)]\n"
     ]
    }
   ],
   "source": [
    "filtered_context_len = [word for word in context_tokenize if word not in stopwords]\n",
    "freq_context = FreqDist(filtered_context_len)\n",
    "print(freq_context.most_common(10))"
   ]
  },
  {
   "attachments": {},
   "cell_type": "markdown",
   "metadata": {},
   "source": [
    "4. 뉴스 기사의 길이 (단어 수)를 계산하세요."
   ]
  },
  {
   "cell_type": "code",
   "execution_count": 75,
   "metadata": {},
   "outputs": [
    {
     "data": {
      "text/plain": [
       "386"
      ]
     },
     "execution_count": 75,
     "metadata": {},
     "output_type": "execute_result"
    }
   ],
   "source": [
    "len(filtered_context_len) #뉴스 기사의 길이 계산"
   ]
  },
  {
   "cell_type": "code",
   "execution_count": 76,
   "metadata": {},
   "outputs": [
    {
     "name": "stdout",
     "output_type": "stream",
     "text": [
      "토스(비바리퍼블리카)의 결제 서비스 자회사 토스페이먼츠가 중국 최대 전자상거래 기업인 알리바바 산하 핀테크 기업 앤트그룹을 전략적 파트너로 맞아들였다. 앤트그룹은 토스페이먼츠의 재무적 투자자(FI)가 보유하고 있던 지분을 비롯해 약 40%의 실질 지분을 확보하며 2대 주주로 올라섰다.\n",
      "\n",
      "앤트그룹은 13억 명이 사용하는 세계 최대 온라인 결제 서비스 알리페이를 운영하는 회사다. 글로벌 진출을 도모해온 토스페이먼츠는 앤트그룹과의 제휴를 통해 해외 결제사업에 속도를 낸다는 전략이다.\n",
      "이미지 크게보기\n",
      "\n",
      "\n",
      "광고\n",
      "토스페이먼츠에 1000억원대 투자\n",
      "18일 투자은행(IB)업계에 따르면 앤트그룹은 최근 토스페이먼츠 대주주인 투자목적회사(SPC) 블리츠패스트 지분 72%를 사들였다. FI 컨소시엄(LB프라이빗에쿼티·프리미어파트너스)이 블리츠패스트를 통해 간접 보유해온 토스페이먼츠 지분 36%를 확보하기 위해서다. 투자 규모는 1000억원대로 알려졌다. 이번 거래로 2020년 토스페이먼츠 인수에 참여한 FI들은 3년 만에 투자금을 모두 회수했다.\n",
      "\n",
      "앤트그룹은 토스페이먼츠가 추진한 수백억원대 유상증자에도 참여해 직접 보유 지분까지 추가 확보한 것으로 알려졌다. 실질 지분율로 따지면 비바리퍼블리카에 이어 2대 주주가 됐다.\n",
      "\n",
      "이번 거래로 토스페이먼츠 이사회의 40%는 앤트그룹 인사로 채워졌다. FI 대표 두 명이 물러난 자리에 앤트그룹 인사 두 명이 선임되면서다. 앤트그룹의 양펑 인터내셔널비즈니스그룹(IBG) 대표와 정형권 한국 총괄대표가 지난 12일 등기이사에 올랐다. 정 대표는 앤트그룹의 알리페이가 2대 주주로 있는 카카오페이에서 2017년부터 지켜온 이사직을 사임하고 토스페이먼츠 이사회에 합류했다. 토스페이먼츠 관계자는 “이사회에 앤트그룹 측 인사가 새로 선임된 것은 맞다”면서도 “향후 계획은 구체적으로 정해진 게 없다”고 했다.\n",
      "\n",
      "토스페이먼츠, 글로벌 진출에 ‘속도’\n",
      "토스페이먼츠는 이번 거래로 초기 투자자의 엑시트를 마무리하고 앤트그룹이라는 ‘대어급’ 전략적 파트너를 확보했다. 스타트업 업계 관계자는 “재무적으로 큰 짐을 덜고 본격적인 사업 확장에 나설 수 있는 다음 라운드를 연 셈”이라고 했다.\n",
      "\n",
      "토스페이먼츠는 앤트그룹과의 파트너십을 통해 글로벌 진출에 날개를 달았다는 평가다. 마진이 높은 국가 간 결제 사업은 수익성 확보가 절실한 토스의 핵심 미래 먹거리로 꼽힌다. 포화 상태인 국내 전자결제대행(PG)·간편결제 시장 대신 급성장하는 해외 직구·역직구 수요를 흡수하고 글로벌로 나아가겠다는 구상이다.\n",
      "\n",
      "중국과 동남아시아를 중심으로 사용자 13억 명, 가맹점 8000만 곳을 이미 확보한 알리페이와 협업하면 ‘속도전’이 가능하다. 해외 가맹점과 일일이 직접 계약을 맺을 필요가 없어서다.\n",
      "\n",
      "알리페이와 토스페이먼츠의 결제 인프라가 연동되면 알리페이를 쓰는 외국인은 토스페이먼츠의 국내 온라인 쇼핑몰 10만여 곳에서 알리페이로 결제하는 게 가능해진다. 한국 소비자도 앤트그룹에 가맹한 해외 브랜드 쇼핑몰에서 토스페이로 바로 결제할 수 있다.\n",
      "\n",
      "한국 시장 공략을 강화해온 앤트그룹으로서도 ‘윈윈’이 예상된다. 2017년부터 카카오페이와 협업 관계를 맺어온 앤트그룹은 올 들어 제로페이 네이버페이 등과 제휴를 시작한 데 이어 토스페이먼츠에 지분 투자까지 단행했다. 토스페이먼츠가 구글 스포티파이 등 글로벌 사업자와 협업한 경험과 국내에서 PG 네트워크를 안정적으로 운영해온 노하우를 높이 산 것으로 전해졌다.\n",
      "\n",
      "빈난새 기자 binthere@hankyung.com\n"
     ]
    }
   ],
   "source": [
    "print(context)"
   ]
  },
  {
   "attachments": {},
   "cell_type": "markdown",
   "metadata": {},
   "source": [
    "context에 있는 값들을 한개씩 sentence로 리스트에 담는 과정에서 \"\\n\"과 같은 값이 들어감\n",
    "아래에 len_stopwords를 활용해서 개행문자만 없애기"
   ]
  },
  {
   "cell_type": "code",
   "execution_count": 77,
   "metadata": {},
   "outputs": [
    {
     "data": {
      "text/plain": [
       "['토스(비바리퍼블리카)의 결제 서비스 자회사 토스페이먼츠가 중국 최대 전자상거래 기업인 알리바바 산하 핀테크 기업 앤트그룹을 전략적 파트너로 맞아들였다',\n",
       " '앤트그룹은 토스페이먼츠의 재무적 투자자(FI)가 보유하고 있던 지분을 비롯해 약 40%의 실질 지분을 확보하며 2대 주주로 올라섰다',\n",
       " '앤트그룹은 13억 명이 사용하는 세계 최대 온라인 결제 서비스 알리페이를 운영하는 회사다',\n",
       " '글로벌 진출을 도모해온 토스페이먼츠는 앤트그룹과의 제휴를 통해 해외 결제사업에 속도를 낸다는 전략이다',\n",
       " '이미지 크게보기   광고 토스페이먼츠에 1000억원대 투자 18일 투자은행(IB)업계에 따르면 앤트그룹은 최근 토스페이먼츠 대주주인 투자목적회사(SPC) 블리츠패스트 지분 72%를 사들였다',\n",
       " 'FI 컨소시엄(LB프라이빗에쿼티·프리미어파트너스)이 블리츠패스트를 통해 간접 보유해온 토스페이먼츠 지분 36%를 확보하기 위해서다',\n",
       " '투자 규모는 1000억원대로 알려졌다',\n",
       " '이번 거래로 2020년 토스페이먼츠 인수에 참여한 FI들은 3년 만에 투자금을 모두 회수했다',\n",
       " '앤트그룹은 토스페이먼츠가 추진한 수백억원대 유상증자에도 참여해 직접 보유 지분까지 추가 확보한 것으로 알려졌다',\n",
       " '실질 지분율로 따지면 비바리퍼블리카에 이어 2대 주주가 됐다',\n",
       " '이번 거래로 토스페이먼츠 이사회의 40%는 앤트그룹 인사로 채워졌다',\n",
       " 'FI 대표 두 명이 물러난 자리에 앤트그룹 인사 두 명이 선임되면서다',\n",
       " '앤트그룹의 양펑 인터내셔널비즈니스그룹(IBG) 대표와 정형권 한국 총괄대표가 지난 12일 등기이사에 올랐다',\n",
       " '정 대표는 앤트그룹의 알리페이가 2대 주주로 있는 카카오페이에서 2017년부터 지켜온 이사직을 사임하고 토스페이먼츠 이사회에 합류했다',\n",
       " '토스페이먼츠 관계자는 “이사회에 앤트그룹 측 인사가 새로 선임된 것은 맞다”면서도 “향후 계획은 구체적으로 정해진 게 없다”고 했다',\n",
       " '토스페이먼츠, 글로벌 진출에 ‘속도’ 토스페이먼츠는 이번 거래로 초기 투자자의 엑시트를 마무리하고 앤트그룹이라는 ‘대어급’ 전략적 파트너를 확보했다',\n",
       " '스타트업 업계 관계자는 “재무적으로 큰 짐을 덜고 본격적인 사업 확장에 나설 수 있는 다음 라운드를 연 셈”이라고 했다',\n",
       " '토스페이먼츠는 앤트그룹과의 파트너십을 통해 글로벌 진출에 날개를 달았다는 평가다',\n",
       " '마진이 높은 국가 간 결제 사업은 수익성 확보가 절실한 토스의 핵심 미래 먹거리로 꼽힌다',\n",
       " '포화 상태인 국내 전자결제대행(PG)·간편결제 시장 대신 급성장하는 해외 직구·역직구 수요를 흡수하고 글로벌로 나아가겠다는 구상이다',\n",
       " '중국과 동남아시아를 중심으로 사용자 13억 명, 가맹점 8000만 곳을 이미 확보한 알리페이와 협업하면 ‘속도전’이 가능하다',\n",
       " '해외 가맹점과 일일이 직접 계약을 맺을 필요가 없어서다',\n",
       " '알리페이와 토스페이먼츠의 결제 인프라가 연동되면 알리페이를 쓰는 외국인은 토스페이먼츠의 국내 온라인 쇼핑몰 10만여 곳에서 알리페이로 결제하는 게 가능해진다',\n",
       " '한국 소비자도 앤트그룹에 가맹한 해외 브랜드 쇼핑몰에서 토스페이로 바로 결제할 수 있다',\n",
       " '한국 시장 공략을 강화해온 앤트그룹으로서도 ‘윈윈’이 예상된다',\n",
       " '2017년부터 카카오페이와 협업 관계를 맺어온 앤트그룹은 올 들어 제로페이 네이버페이 등과 제휴를 시작한 데 이어 토스페이먼츠에 지분 투자까지 단행했다',\n",
       " '토스페이먼츠가 구글 스포티파이 등 글로벌 사업자와 협업한 경험과 국내에서 PG 네트워크를 안정적으로 운영해온 노하우를 높이 산 것으로 전해졌다',\n",
       " '빈난새 기자 binthere@hankyung',\n",
       " 'com']"
      ]
     },
     "execution_count": 77,
     "metadata": {},
     "output_type": "execute_result"
    }
   ],
   "source": [
    "sentences = context.split('.')\n",
    "len_stopwords = \"\\n\"\n",
    "filtered_contexts = []\n",
    "for sentence in sentences:\n",
    "    sentence = sentence.replace(len_stopwords, \" \")\n",
    "    filtered_contexts.append(sentence.strip())\n",
    "filtered_contexts"
   ]
  },
  {
   "cell_type": "code",
   "execution_count": 78,
   "metadata": {},
   "outputs": [],
   "source": [
    "filtered_contexts = filtered_contexts[:-2] #위 처럼 빈난새기자 ,com과 같은 값은 없앰"
   ]
  },
  {
   "cell_type": "code",
   "execution_count": 79,
   "metadata": {},
   "outputs": [
    {
     "data": {
      "text/plain": [
       "[83,\n",
       " 73,\n",
       " 49,\n",
       " 56,\n",
       " 105,\n",
       " 72,\n",
       " 20,\n",
       " 51,\n",
       " 61,\n",
       " 33,\n",
       " 37,\n",
       " 38,\n",
       " 59,\n",
       " 74,\n",
       " 73,\n",
       " 82,\n",
       " 66,\n",
       " 44,\n",
       " 49,\n",
       " 73,\n",
       " 69,\n",
       " 30,\n",
       " 87,\n",
       " 48,\n",
       " 34,\n",
       " 84,\n",
       " 79]"
      ]
     },
     "execution_count": 79,
     "metadata": {},
     "output_type": "execute_result"
    }
   ],
   "source": [
    "sentence_len =[]\n",
    "sentence_total = 0\n",
    "for sentence in filtered_contexts:\n",
    "    sentence_len.append(len(sentence))\n",
    "    sentence_total += len(sentence)\n",
    "sentence_len"
   ]
  },
  {
   "attachments": {},
   "cell_type": "markdown",
   "metadata": {},
   "source": [
    "5. 문장의 평균 길이를 계산하세요."
   ]
  },
  {
   "cell_type": "code",
   "execution_count": 80,
   "metadata": {},
   "outputs": [
    {
     "data": {
      "text/plain": [
       "60.333333333333336"
      ]
     },
     "execution_count": 80,
     "metadata": {},
     "output_type": "execute_result"
    }
   ],
   "source": [
    "##문장 평균 길이 =  모든 문장의 단어 개수의 합 / 문장의 개수\n",
    "sentence_total / len(sentence_len) #평균 문장 개수"
   ]
  },
  {
   "attachments": {},
   "cell_type": "markdown",
   "metadata": {},
   "source": [
    "6. 기사의 감정을 분석하기 위해 긍정적인 단어와 부정적인 단어의 빈도를 계산하세요. (긍\n",
    "정적인 단어 목록과 부정적인 단어 목록을 정의하세요)"
   ]
  },
  {
   "cell_type": "code",
   "execution_count": 81,
   "metadata": {},
   "outputs": [
    {
     "name": "stdout",
     "output_type": "stream",
     "text": [
      "긍정적인 단어/구의 개수: 12\n",
      "긍정적인 단어/구의 개수: 1\n"
     ]
    }
   ],
   "source": [
    "positive_words = [\"전략적 파트너\", \"2대 주주\", \"세계 최대\", \"회수\", \"합류\", \"사업 확장\",  \"협업\"]\n",
    "negative_words = [\"절실한\"]\n",
    "\n",
    "total_positive_count = 0\n",
    "total_negative_count = 0\n",
    "\n",
    "for sentence in filtered_contexts:\n",
    "    total_positive_count += sum(sentence.count(word) for word in positive_words)\n",
    "    total_negative_count += sum(sentence.count(word) for word in negative_words)\n",
    "\n",
    "print(\"긍정적인 단어/구의 개수:\", total_positive_count)\n",
    "print(\"긍정적인 단어/구의 개수:\", total_negative_count)\n"
   ]
  },
  {
   "attachments": {},
   "cell_type": "markdown",
   "metadata": {},
   "source": [
    "7. 뉴스 기사의 주제나 주요 토픽을 분석하기 위해 가장 많이 등장하는 명사를 찾아 출력하\n",
    "세요."
   ]
  },
  {
   "cell_type": "code",
   "execution_count": 82,
   "metadata": {},
   "outputs": [
    {
     "name": "stdout",
     "output_type": "stream",
     "text": [
      "[('토스페이먼츠', 7)]\n"
     ]
    }
   ],
   "source": [
    "filtered_context_len = [word for word in context_tokenize if word not in stopwords]\n",
    "freq_context = FreqDist(filtered_context_len)\n",
    "print(freq_context.most_common(1))"
   ]
  },
  {
   "attachments": {},
   "cell_type": "markdown",
   "metadata": {},
   "source": [
    "8. 크롤링한 기사를 요약하는 알고리즘을 개발하고, 기사의 요약된 내용을 출력하세요.(딥/머신러닝팀만 해당)"
   ]
  },
  {
   "cell_type": "code",
   "execution_count": 83,
   "metadata": {},
   "outputs": [],
   "source": [
    "from konlpy.tag import Kkma\n",
    "from konlpy.tag import Twitter\n",
    "from sklearn.feature_extraction.text import TfidfVectorizer\n",
    "from sklearn.feature_extraction.text import CountVectorizer\n",
    "from sklearn.preprocessing import normalize\n",
    "import numpy as np"
   ]
  },
  {
   "cell_type": "code",
   "execution_count": 84,
   "metadata": {},
   "outputs": [],
   "source": [
    "filtered_contexts_tokenize = []\n",
    "for sentence in filtered_contexts:\n",
    "    sentence_tokenize = word_tokenize(sentence)\n",
    "    filtered_contexts_tokenize.append(sentence_tokenize)"
   ]
  },
  {
   "cell_type": "code",
   "execution_count": 86,
   "metadata": {},
   "outputs": [
    {
     "data": {
      "text/plain": [
       "[['토스',\n",
       "  '(',\n",
       "  '비바리퍼블리카',\n",
       "  ')',\n",
       "  '의',\n",
       "  '결제',\n",
       "  '서비스',\n",
       "  '자회사',\n",
       "  '토스페이먼츠가',\n",
       "  '중국',\n",
       "  '최대',\n",
       "  '전자상거래',\n",
       "  '기업인',\n",
       "  '알리바바',\n",
       "  '산하',\n",
       "  '핀테크',\n",
       "  '기업',\n",
       "  '앤트그룹을',\n",
       "  '전략적',\n",
       "  '파트너로',\n",
       "  '맞아들였다'],\n",
       " ['앤트그룹은',\n",
       "  '토스페이먼츠의',\n",
       "  '재무적',\n",
       "  '투자자',\n",
       "  '(',\n",
       "  'FI',\n",
       "  ')',\n",
       "  '가',\n",
       "  '보유하고',\n",
       "  '있던',\n",
       "  '지분을',\n",
       "  '비롯해',\n",
       "  '약',\n",
       "  '40',\n",
       "  '%',\n",
       "  '의',\n",
       "  '실질',\n",
       "  '지분을',\n",
       "  '확보하며',\n",
       "  '2대',\n",
       "  '주주로',\n",
       "  '올라섰다'],\n",
       " ['앤트그룹은',\n",
       "  '13억',\n",
       "  '명이',\n",
       "  '사용하는',\n",
       "  '세계',\n",
       "  '최대',\n",
       "  '온라인',\n",
       "  '결제',\n",
       "  '서비스',\n",
       "  '알리페이를',\n",
       "  '운영하는',\n",
       "  '회사다'],\n",
       " ['글로벌',\n",
       "  '진출을',\n",
       "  '도모해온',\n",
       "  '토스페이먼츠는',\n",
       "  '앤트그룹과의',\n",
       "  '제휴를',\n",
       "  '통해',\n",
       "  '해외',\n",
       "  '결제사업에',\n",
       "  '속도를',\n",
       "  '낸다는',\n",
       "  '전략이다'],\n",
       " ['이미지',\n",
       "  '크게보기',\n",
       "  '광고',\n",
       "  '토스페이먼츠에',\n",
       "  '1000억원대',\n",
       "  '투자',\n",
       "  '18일',\n",
       "  '투자은행',\n",
       "  '(',\n",
       "  'IB',\n",
       "  ')',\n",
       "  '업계에',\n",
       "  '따르면',\n",
       "  '앤트그룹은',\n",
       "  '최근',\n",
       "  '토스페이먼츠',\n",
       "  '대주주인',\n",
       "  '투자목적회사',\n",
       "  '(',\n",
       "  'SPC',\n",
       "  ')',\n",
       "  '블리츠패스트',\n",
       "  '지분',\n",
       "  '72',\n",
       "  '%',\n",
       "  '를',\n",
       "  '사들였다'],\n",
       " ['FI',\n",
       "  '컨소시엄',\n",
       "  '(',\n",
       "  'LB프라이빗에쿼티·프리미어파트너스',\n",
       "  ')',\n",
       "  '이',\n",
       "  '블리츠패스트를',\n",
       "  '통해',\n",
       "  '간접',\n",
       "  '보유해온',\n",
       "  '토스페이먼츠',\n",
       "  '지분',\n",
       "  '36',\n",
       "  '%',\n",
       "  '를',\n",
       "  '확보하기',\n",
       "  '위해서다'],\n",
       " ['투자', '규모는', '1000억원대로', '알려졌다'],\n",
       " ['이번',\n",
       "  '거래로',\n",
       "  '2020년',\n",
       "  '토스페이먼츠',\n",
       "  '인수에',\n",
       "  '참여한',\n",
       "  'FI들은',\n",
       "  '3년',\n",
       "  '만에',\n",
       "  '투자금을',\n",
       "  '모두',\n",
       "  '회수했다'],\n",
       " ['앤트그룹은',\n",
       "  '토스페이먼츠가',\n",
       "  '추진한',\n",
       "  '수백억원대',\n",
       "  '유상증자에도',\n",
       "  '참여해',\n",
       "  '직접',\n",
       "  '보유',\n",
       "  '지분까지',\n",
       "  '추가',\n",
       "  '확보한',\n",
       "  '것으로',\n",
       "  '알려졌다'],\n",
       " ['실질', '지분율로', '따지면', '비바리퍼블리카에', '이어', '2대', '주주가', '됐다'],\n",
       " ['이번', '거래로', '토스페이먼츠', '이사회의', '40', '%', '는', '앤트그룹', '인사로', '채워졌다'],\n",
       " ['FI', '대표', '두', '명이', '물러난', '자리에', '앤트그룹', '인사', '두', '명이', '선임되면서다'],\n",
       " ['앤트그룹의',\n",
       "  '양펑',\n",
       "  '인터내셔널비즈니스그룹',\n",
       "  '(',\n",
       "  'IBG',\n",
       "  ')',\n",
       "  '대표와',\n",
       "  '정형권',\n",
       "  '한국',\n",
       "  '총괄대표가',\n",
       "  '지난',\n",
       "  '12일',\n",
       "  '등기이사에',\n",
       "  '올랐다'],\n",
       " ['정',\n",
       "  '대표는',\n",
       "  '앤트그룹의',\n",
       "  '알리페이가',\n",
       "  '2대',\n",
       "  '주주로',\n",
       "  '있는',\n",
       "  '카카오페이에서',\n",
       "  '2017년부터',\n",
       "  '지켜온',\n",
       "  '이사직을',\n",
       "  '사임하고',\n",
       "  '토스페이먼츠',\n",
       "  '이사회에',\n",
       "  '합류했다'],\n",
       " ['토스페이먼츠',\n",
       "  '관계자는',\n",
       "  '“',\n",
       "  '이사회에',\n",
       "  '앤트그룹',\n",
       "  '측',\n",
       "  '인사가',\n",
       "  '새로',\n",
       "  '선임된',\n",
       "  '것은',\n",
       "  '맞다',\n",
       "  '”',\n",
       "  '면서도',\n",
       "  '“',\n",
       "  '향후',\n",
       "  '계획은',\n",
       "  '구체적으로',\n",
       "  '정해진',\n",
       "  '게',\n",
       "  '없다',\n",
       "  '”',\n",
       "  '고',\n",
       "  '했다'],\n",
       " ['토스페이먼츠',\n",
       "  ',',\n",
       "  '글로벌',\n",
       "  '진출에',\n",
       "  '‘',\n",
       "  '속도',\n",
       "  '’',\n",
       "  '토스페이먼츠는',\n",
       "  '이번',\n",
       "  '거래로',\n",
       "  '초기',\n",
       "  '투자자의',\n",
       "  '엑시트를',\n",
       "  '마무리하고',\n",
       "  '앤트그룹이라는',\n",
       "  '‘',\n",
       "  '대어급',\n",
       "  '’',\n",
       "  '전략적',\n",
       "  '파트너를',\n",
       "  '확보했다'],\n",
       " ['스타트업',\n",
       "  '업계',\n",
       "  '관계자는',\n",
       "  '“',\n",
       "  '재무적으로',\n",
       "  '큰',\n",
       "  '짐을',\n",
       "  '덜고',\n",
       "  '본격적인',\n",
       "  '사업',\n",
       "  '확장에',\n",
       "  '나설',\n",
       "  '수',\n",
       "  '있는',\n",
       "  '다음',\n",
       "  '라운드를',\n",
       "  '연',\n",
       "  '셈',\n",
       "  '”',\n",
       "  '이라고',\n",
       "  '했다'],\n",
       " ['토스페이먼츠는', '앤트그룹과의', '파트너십을', '통해', '글로벌', '진출에', '날개를', '달았다는', '평가다'],\n",
       " ['마진이',\n",
       "  '높은',\n",
       "  '국가',\n",
       "  '간',\n",
       "  '결제',\n",
       "  '사업은',\n",
       "  '수익성',\n",
       "  '확보가',\n",
       "  '절실한',\n",
       "  '토스의',\n",
       "  '핵심',\n",
       "  '미래',\n",
       "  '먹거리로',\n",
       "  '꼽힌다'],\n",
       " ['포화',\n",
       "  '상태인',\n",
       "  '국내',\n",
       "  '전자결제대행',\n",
       "  '(',\n",
       "  'PG',\n",
       "  ')',\n",
       "  '·간편결제',\n",
       "  '시장',\n",
       "  '대신',\n",
       "  '급성장하는',\n",
       "  '해외',\n",
       "  '직구·역직구',\n",
       "  '수요를',\n",
       "  '흡수하고',\n",
       "  '글로벌로',\n",
       "  '나아가겠다는',\n",
       "  '구상이다'],\n",
       " ['중국과',\n",
       "  '동남아시아를',\n",
       "  '중심으로',\n",
       "  '사용자',\n",
       "  '13억',\n",
       "  '명',\n",
       "  ',',\n",
       "  '가맹점',\n",
       "  '8000만',\n",
       "  '곳을',\n",
       "  '이미',\n",
       "  '확보한',\n",
       "  '알리페이와',\n",
       "  '협업하면',\n",
       "  '‘',\n",
       "  '속도전',\n",
       "  '’',\n",
       "  '이',\n",
       "  '가능하다'],\n",
       " ['해외', '가맹점과', '일일이', '직접', '계약을', '맺을', '필요가', '없어서다'],\n",
       " ['알리페이와',\n",
       "  '토스페이먼츠의',\n",
       "  '결제',\n",
       "  '인프라가',\n",
       "  '연동되면',\n",
       "  '알리페이를',\n",
       "  '쓰는',\n",
       "  '외국인은',\n",
       "  '토스페이먼츠의',\n",
       "  '국내',\n",
       "  '온라인',\n",
       "  '쇼핑몰',\n",
       "  '10만여',\n",
       "  '곳에서',\n",
       "  '알리페이로',\n",
       "  '결제하는',\n",
       "  '게',\n",
       "  '가능해진다'],\n",
       " ['한국',\n",
       "  '소비자도',\n",
       "  '앤트그룹에',\n",
       "  '가맹한',\n",
       "  '해외',\n",
       "  '브랜드',\n",
       "  '쇼핑몰에서',\n",
       "  '토스페이로',\n",
       "  '바로',\n",
       "  '결제할',\n",
       "  '수',\n",
       "  '있다'],\n",
       " ['한국', '시장', '공략을', '강화해온', '앤트그룹으로서도', '‘', '윈윈', '’', '이', '예상된다'],\n",
       " ['2017년부터',\n",
       "  '카카오페이와',\n",
       "  '협업',\n",
       "  '관계를',\n",
       "  '맺어온',\n",
       "  '앤트그룹은',\n",
       "  '올',\n",
       "  '들어',\n",
       "  '제로페이',\n",
       "  '네이버페이',\n",
       "  '등과',\n",
       "  '제휴를',\n",
       "  '시작한',\n",
       "  '데',\n",
       "  '이어',\n",
       "  '토스페이먼츠에',\n",
       "  '지분',\n",
       "  '투자까지',\n",
       "  '단행했다'],\n",
       " ['토스페이먼츠가',\n",
       "  '구글',\n",
       "  '스포티파이',\n",
       "  '등',\n",
       "  '글로벌',\n",
       "  '사업자와',\n",
       "  '협업한',\n",
       "  '경험과',\n",
       "  '국내에서',\n",
       "  'PG',\n",
       "  '네트워크를',\n",
       "  '안정적으로',\n",
       "  '운영해온',\n",
       "  '노하우를',\n",
       "  '높이',\n",
       "  '산',\n",
       "  '것으로',\n",
       "  '전해졌다']]"
      ]
     },
     "execution_count": 86,
     "metadata": {},
     "output_type": "execute_result"
    }
   ],
   "source": [
    "filtered_contexts_tokenize"
   ]
  },
  {
   "attachments": {},
   "cell_type": "markdown",
   "metadata": {},
   "source": [
    "##이해 불가##\n",
    "\n",
    "# 2차원 리스트를 1차원 리스트로 변환\n",
    "sorted_indices_1d = [index for sublist in sorted_indices_list for index in sublist]\n",
    "\n",
    "# 상위 5개의 문장을 선택\n",
    "top_sentences = [sentences[i] for i in sorted_indices_1d[:top_n_sentences]]\n"
   ]
  },
  {
   "cell_type": "code",
   "execution_count": 85,
   "metadata": {},
   "outputs": [
    {
     "data": {
      "text/plain": [
       "['이미지 크게보기 광고 토스페이먼츠에 1000억원대 투자 18일 투자은행 ( IB ) 업계에 따르면 앤트그룹은 최근 토스페이먼츠 대주주인 투자목적회사 ( SPC ) 블리츠패스트 지분 72 % 를 사들였다',\n",
       " '토스 ( 비바리퍼블리카 ) 의 결제 서비스 자회사 토스페이먼츠가 중국 최대 전자상거래 기업인 알리바바 산하 핀테크 기업 앤트그룹을 전략적 파트너로 맞아들였다',\n",
       " '포화 상태인 국내 전자결제대행 ( PG ) ·간편결제 시장 대신 급성장하는 해외 직구·역직구 수요를 흡수하고 글로벌로 나아가겠다는 구상이다',\n",
       " '토스페이먼츠 관계자는 “ 이사회에 앤트그룹 측 인사가 새로 선임된 것은 맞다 ” 면서도 “ 향후 계획은 구체적으로 정해진 게 없다 ” 고 했다',\n",
       " '토스페이먼츠 , 글로벌 진출에 ‘ 속도 ’ 토스페이먼츠는 이번 거래로 초기 투자자의 엑시트를 마무리하고 앤트그룹이라는 ‘ 대어급 ’ 전략적 파트너를 확보했다']"
      ]
     },
     "execution_count": 85,
     "metadata": {},
     "output_type": "execute_result"
    }
   ],
   "source": [
    "from sklearn.feature_extraction.text import TfidfVectorizer\n",
    "\n",
    "# 문장을 문자열로 변환\n",
    "sentences = [' '.join(sentence) for sentence in filtered_contexts_tokenize] #각 토근마다 문장들을 다치 sentences로 합침\n",
    "\n",
    "# TF-IDF 벡터라이저를 생성\n",
    "vectorizer = TfidfVectorizer()#Tfid로 vectorizer 설정\n",
    "X = vectorizer.fit_transform(sentences) #문장들을 TF-IDF로 벡터화 함\n",
    "\n",
    "# 각 문장의 TF-IDF 값을 합산\n",
    "sentence_scores = X.sum(axis=1)\n",
    "\n",
    "# TF-IDF 점수가 높은 상위 5개의 문장을 선택\n",
    "top_n_sentences = 5\n",
    "# 2차원 리스트를 1차원 리스트로 변환\n",
    "sorted_indices_1d = [index for sublist in sorted_indices_list for index in sublist]\n",
    "\n",
    "# 상위 5개의 문장을 선택\n",
    "top_sentences = [sentences[i] for i in sorted_indices_1d[:top_n_sentences]]\n",
    "\n",
    "top_sentences\n",
    "\n",
    "\n",
    "\n",
    "\n"
   ]
  }
 ],
 "metadata": {
  "kernelspec": {
   "display_name": "Python 3",
   "language": "python",
   "name": "python3"
  },
  "language_info": {
   "codemirror_mode": {
    "name": "ipython",
    "version": 3
   },
   "file_extension": ".py",
   "mimetype": "text/x-python",
   "name": "python",
   "nbconvert_exporter": "python",
   "pygments_lexer": "ipython3",
   "version": "3.7.9"
  },
  "orig_nbformat": 4
 },
 "nbformat": 4,
 "nbformat_minor": 2
}
