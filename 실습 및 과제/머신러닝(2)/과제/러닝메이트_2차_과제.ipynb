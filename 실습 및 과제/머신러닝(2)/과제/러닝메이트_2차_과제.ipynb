{
 "cells": [
  {
   "cell_type": "markdown",
   "id": "c8d09706",
   "metadata": {},
   "source": [
    "# 2주차 과제\n",
    "\n",
    ">1. 원하는 기사를 찾은 후 해당 페이지 URL에서 뉴스 기사 텍스트 데이터를 크롤링하세요.\n",
    "2. 크롤링한 텍스트 데이터를 토큰화하고, 각 단어의 빈도를 계산하세요.\n",
    "3. 가장 빈도가 높은 단어 10개를 찾아 출력하세요.\n",
    "4. 뉴스 기사의 길이 (단어 수)를 계산하세요.\n",
    "5. 문장의 평균 길이를 계산하세요.\n",
    "6. 기사의 감정을 분석하기 위해 긍정적인 단어와 부정적인 단어의 빈도를 계산하세요. (긍정적인 단어 목록과 부정적인 단어 목록을 정의하세요)\n",
    "7. 뉴스 기사의 주제나 주요 토픽을 분석하기 위해 가장 많이 등장하는 명사를 찾아 출력하세요.\n",
    "8. 크롤링한 기사를 요약하는 알고리즘을 개발하고, 기사의 요약된 내용을 출력하세요.(딥/머신러닝팀만 해당)\n",
    "\n",
    "- 사용 라이브러리\n",
    ">웹 크롤링: BeautifulSoup or Scrapy or ChromeDriver etc.\n",
    ">자연어 처리: NLTK or SpaCy etc."
   ]
  },
  {
   "cell_type": "markdown",
   "id": "055a9085",
   "metadata": {},
   "source": [
    "### 1번"
   ]
  },
  {
   "cell_type": "code",
   "execution_count": 1,
   "id": "913745f5",
   "metadata": {
    "scrolled": true
   },
   "outputs": [
    {
     "data": {
      "text/plain": [
       "'C:\\\\Users\\\\2001_\\\\Downloads'"
      ]
     },
     "execution_count": 1,
     "metadata": {},
     "output_type": "execute_result"
    }
   ],
   "source": [
    "import os\n",
    "os.getcwd()"
   ]
  },
  {
   "cell_type": "code",
   "execution_count": 2,
   "id": "cdeaa146",
   "metadata": {},
   "outputs": [
    {
     "name": "stdout",
     "output_type": "stream",
     "text": [
      "Requirement already satisfied: selenium in c:\\users\\2001_\\anaconda3\\lib\\site-packages (4.12.0)\n",
      "Requirement already satisfied: webdriver-manager in c:\\users\\2001_\\anaconda3\\lib\\site-packages (4.0.0)\n",
      "Requirement already satisfied: nltk in c:\\users\\2001_\\anaconda3\\lib\\site-packages (3.7)\n",
      "Requirement already satisfied: vaderSentiment in c:\\users\\2001_\\anaconda3\\lib\\site-packages (3.3.2)\n",
      "Requirement already satisfied: certifi>=2021.10.8 in c:\\users\\2001_\\anaconda3\\lib\\site-packages (from selenium) (2022.12.7)\n",
      "Requirement already satisfied: trio~=0.17 in c:\\users\\2001_\\anaconda3\\lib\\site-packages (from selenium) (0.22.2)\n",
      "Requirement already satisfied: trio-websocket~=0.9 in c:\\users\\2001_\\anaconda3\\lib\\site-packages (from selenium) (0.10.4)\n",
      "Requirement already satisfied: urllib3[socks]<3,>=1.26 in c:\\users\\2001_\\anaconda3\\lib\\site-packages (from selenium) (1.26.14)\n",
      "Requirement already satisfied: python-dotenv in c:\\users\\2001_\\anaconda3\\lib\\site-packages (from webdriver-manager) (1.0.0)\n",
      "Requirement already satisfied: requests in c:\\users\\2001_\\anaconda3\\lib\\site-packages (from webdriver-manager) (2.28.1)\n",
      "Requirement already satisfied: packaging in c:\\users\\2001_\\anaconda3\\lib\\site-packages (from webdriver-manager) (22.0)\n",
      "Requirement already satisfied: joblib in c:\\users\\2001_\\anaconda3\\lib\\site-packages (from nltk) (1.1.1)\n",
      "Requirement already satisfied: tqdm in c:\\users\\2001_\\anaconda3\\lib\\site-packages (from nltk) (4.64.1)\n",
      "Requirement already satisfied: regex>=2021.8.3 in c:\\users\\2001_\\anaconda3\\lib\\site-packages (from nltk) (2022.7.9)\n",
      "Requirement already satisfied: click in c:\\users\\2001_\\anaconda3\\lib\\site-packages (from nltk) (8.0.4)\n",
      "Requirement already satisfied: cffi>=1.14 in c:\\users\\2001_\\anaconda3\\lib\\site-packages (from trio~=0.17->selenium) (1.15.1)\n",
      "Requirement already satisfied: exceptiongroup>=1.0.0rc9 in c:\\users\\2001_\\anaconda3\\lib\\site-packages (from trio~=0.17->selenium) (1.1.3)\n",
      "Requirement already satisfied: sniffio in c:\\users\\2001_\\anaconda3\\lib\\site-packages (from trio~=0.17->selenium) (1.2.0)\n",
      "Requirement already satisfied: attrs>=20.1.0 in c:\\users\\2001_\\anaconda3\\lib\\site-packages (from trio~=0.17->selenium) (22.1.0)\n",
      "Requirement already satisfied: sortedcontainers in c:\\users\\2001_\\anaconda3\\lib\\site-packages (from trio~=0.17->selenium) (2.4.0)\n",
      "Requirement already satisfied: outcome in c:\\users\\2001_\\anaconda3\\lib\\site-packages (from trio~=0.17->selenium) (1.2.0)\n",
      "Requirement already satisfied: idna in c:\\users\\2001_\\anaconda3\\lib\\site-packages (from trio~=0.17->selenium) (3.4)\n",
      "Requirement already satisfied: wsproto>=0.14 in c:\\users\\2001_\\anaconda3\\lib\\site-packages (from trio-websocket~=0.9->selenium) (1.2.0)\n",
      "Requirement already satisfied: PySocks!=1.5.7,<2.0,>=1.5.6 in c:\\users\\2001_\\anaconda3\\lib\\site-packages (from urllib3[socks]<3,>=1.26->selenium) (1.7.1)\n",
      "Requirement already satisfied: colorama in c:\\users\\2001_\\anaconda3\\lib\\site-packages (from click->nltk) (0.4.6)\n",
      "Requirement already satisfied: charset-normalizer<3,>=2 in c:\\users\\2001_\\anaconda3\\lib\\site-packages (from requests->webdriver-manager) (2.0.4)\n",
      "Requirement already satisfied: pycparser in c:\\users\\2001_\\anaconda3\\lib\\site-packages (from cffi>=1.14->trio~=0.17->selenium) (2.21)\n",
      "Requirement already satisfied: h11<1,>=0.9.0 in c:\\users\\2001_\\anaconda3\\lib\\site-packages (from wsproto>=0.14->trio-websocket~=0.9->selenium) (0.14.0)\n"
     ]
    }
   ],
   "source": [
    "!pip install selenium webdriver-manager nltk vaderSentiment"
   ]
  },
  {
   "cell_type": "code",
   "execution_count": 16,
   "id": "bb6a3872",
   "metadata": {},
   "outputs": [],
   "source": [
    "from selenium import webdriver\n",
    "from selenium.webdriver.chrome.options import Options\n",
    "from webdriver_manager.chrome import ChromeDriverManager\n",
    "from selenium.webdriver.common.keys import Keys\n",
    "import json\n",
    "from selenium.webdriver.common.by import By\n",
    "from selenium.webdriver.support.ui import WebDriverWait\n",
    "from selenium.webdriver.support import expected_conditions as EC\n",
    "from selenium.common.exceptions import NoSuchElementException\n",
    "from selenium.common.exceptions import NoSuchWindowException\n",
    "from selenium.common.exceptions import TimeoutException\n",
    "from selenium.webdriver.common.by import By\n",
    "from selenium.webdriver.support.ui import WebDriverWait\n",
    "from selenium.webdriver.support import expected_conditions as EC\n",
    "from selenium.common.exceptions import NoSuchElementException, TimeoutException, StaleElementReferenceException\n",
    "\n",
    "import re\n",
    "import numpy as np\n",
    "import pandas as pd\n",
    "from collections import Counter\n",
    "\n",
    "import nltk\n",
    "from nltk.tokenize import word_tokenize\n",
    "from nltk.tokenize import WordPunctTokenizer\n",
    "from tensorflow.keras.preprocessing.text import text_to_word_sequence\n",
    "from nltk.tokenize import sent_tokenize\n",
    "from nltk.tokenize import RegexpTokenizer\n",
    "from nltk.stem.porter import PorterStemmer\n",
    "from nltk.corpus import stopwords\n",
    "#nltk.download('popular')"
   ]
  },
  {
   "cell_type": "code",
   "execution_count": 17,
   "id": "6d3d584a",
   "metadata": {
    "scrolled": true
   },
   "outputs": [],
   "source": [
    "url = \"https://pulsenews.co.kr/view.php?sc=30800018&year=2023&no=711365\""
   ]
  },
  {
   "cell_type": "code",
   "execution_count": 18,
   "id": "196c59fd",
   "metadata": {},
   "outputs": [],
   "source": [
    "options = Options()\n",
    "options.add_argument('user-agent=Mozilla/5.0 (Windows NT 10.0; Win64; x64) AppleWebKit/537.36 (KHTML, like Gecko) Chrome/116.0.0.0 Safari/537.36') #인간이라는 user-agent 제공\n",
    "driver = webdriver.Chrome(options=options)\n",
    "driver.get(url)\n",
    "driver.maximize_window()\n",
    "driver.implicitly_wait(10)"
   ]
  },
  {
   "cell_type": "code",
   "execution_count": 24,
   "id": "3adf0c80",
   "metadata": {
    "scrolled": false
   },
   "outputs": [
    {
     "data": {
      "text/plain": [
       "['SK telecom Co. office building. [Photo by Lee Seung-hwan]\\nSK Broadband, a subsidiary of South Korean wireless carrier SK telecom Co., has officially ended its prolonged legal dispute over network traffic fees with global streaming platform Netflix Inc. SK telecom announced the successful resolution of the conflict and revealed a strategic partnership with Netflix to enhance customer convenience on Monday.\\n\\nAs part of this new collaboration, SK telecom and SK Broadband will enable customers to access Netflix via their smartphones and IPTV services, known as B tv. While they will also introduce a range of bundled plans for customers by combining SK telecom’s price plans with SK Broadband IPTV offerings, SK telecom’s subscription service T Universe will introduce a new Netflix bundle. Netflix will also introduce its newly launched ad-based plans to the market.\\n\\nThese new products are set to be released starting in the first half of 2024.\\n\\nBeyond products, the partnership will also foster technological cooperation. SK telecom and SK Broadband will collaborate with Netflix to explore ways to deliver user-friendly entertainment experiences through artificial intelligence (AI) technologies, leveraging SKT’s extensive experience in interactive UX and personalized guidance.\\n\\nThe specific terms that led to the resolution of the legal dispute have not been disclosed. But some industry insiders speculate that Netflix agreed to pay a fee akin to a network usage fee in exchange for dropping the lawsuit.\\n\\n“A partnership with SK telecom and SK Broadband, the leading players in Korea’s telecommunications and technology sectors, is important in that it has the potential to enhance the viewing experience for Netflix members,” according to Tony Zameczkowski, vice president at Netflix Asia Pacific.\\n\\n“The partnership aligns with our commitment to prioritizing customer value,” SK telecom Vice President of Corporate Strategy Choi Hwan-seok added.\\nBy Kim Dae-young and Han Yubin\\n[ⓒ Pulse by Maeil Business News Korea & mk.co.kr, All rights reserved]']"
      ]
     },
     "execution_count": 24,
     "metadata": {},
     "output_type": "execute_result"
    }
   ],
   "source": [
    "article = []\n",
    "elem = driver.find_element(By.CSS_SELECTOR, \"#newsview > div.s_left_content > div > div.art_txt\").text\n",
    "article.append(elem)\n",
    "article"
   ]
  },
  {
   "cell_type": "code",
   "execution_count": 26,
   "id": "88d6ee8e",
   "metadata": {},
   "outputs": [
    {
     "data": {
      "text/plain": [
       "list"
      ]
     },
     "execution_count": 26,
     "metadata": {},
     "output_type": "execute_result"
    }
   ],
   "source": [
    "type(article)"
   ]
  },
  {
   "cell_type": "code",
   "execution_count": 27,
   "id": "0b7753e0",
   "metadata": {
    "scrolled": true
   },
   "outputs": [
    {
     "data": {
      "text/plain": [
       "'\\\\nSK Broadband, a subsidiary of South Korean wireless carrier SK telecom Co., has officially ended its prolonged legal dispute over network traffic fees with global streaming platform Netflix Inc. SK telecom announced the successful resolution of the conflict and revealed a strategic partnership with Netflix to enhance customer convenience on Monday.\\\\n\\\\nAs part of this new collaboration, SK telecom and SK Broadband will enable customers to access Netflix via their smartphones and IPTV services, known as B tv. While they will also introduce a range of bundled plans for customers by combining SK telecom’s price plans with SK Broadband IPTV offerings, SK telecom’s subscription service T Universe will introduce a new Netflix bundle. Netflix will also introduce its newly launched ad-based plans to the market.\\\\n\\\\nThese new products are set to be released starting in the first half of 2024.\\\\n\\\\nBeyond products, the partnership will also foster technological cooperation. SK telecom and SK Broadband will collaborate with Netflix to explore ways to deliver user-friendly entertainment experiences through artificial intelligence (AI) technologies, leveraging SKT’s extensive experience in interactive UX and personalized guidance.\\\\n\\\\nThe specific terms that led to the resolution of the legal dispute have not been disclosed. But some industry insiders speculate that Netflix agreed to pay a fee akin to a network usage fee in exchange for dropping the lawsuit.\\\\n\\\\n“A partnership with SK telecom and SK Broadband, the leading players in Korea’s telecommunications and technology sectors, is important in that it has the potential to enhance the viewing experience for Netflix members,” according to Tony Zameczkowski, vice president at Netflix Asia Pacific.\\\\n\\\\n“The partnership aligns with our commitment to prioritizing customer value,” SK telecom Vice President of Corporate Strategy Choi Hwan-seok added.\\\\nBy Kim Dae-young and Han Yubin\\\\n'"
      ]
     },
     "execution_count": 27,
     "metadata": {},
     "output_type": "execute_result"
    }
   ],
   "source": [
    "pattern = r'\\[[^)]*\\]'  # [] 제거\n",
    "s = re.sub(pattern=pattern, repl='', string=str(article))\n",
    "#s = re.sub(\"[a-zA-Z가-힣]\", \" \", article)\n",
    "s"
   ]
  },
  {
   "cell_type": "code",
   "execution_count": 111,
   "id": "d36ce75a",
   "metadata": {
    "scrolled": true
   },
   "outputs": [
    {
     "data": {
      "text/plain": [
       "' SK Broadband  a subsidiary of South Korean wireless carrier SK telecom Co   has officially ended its prolonged legal dispute over network traffic fees with global streaming platform Netflix Inc  SK telecom announced the successful resolution of the conflict and revealed a strategic partnership with Netflix to enhance customer convenience on Monday   As part of this new collaboration  SK telecom and SK Broadband will enable customers to access Netflix via their smartphones and IPTV services  known as B tv  While they will also introduce a range of bundled plans for customers by combining SK telecom’s price plans with SK Broadband IPTV offerings  SK telecom’s subscription service T Universe will introduce a new Netflix bundle  Netflix will also introduce its newly launched ad-based plans to the market   These new products are set to be released starting in the first half of 2024   Beyond products  the partnership will also foster technological cooperation  SK telecom and SK Broadband will collaborate with Netflix to explore ways to deliver user-friendly entertainment experiences through artificial intelligence (AI) technologies  leveraging SKT’s extensive experience in interactive UX and personalized guidance   The specific terms that led to the resolution of the legal dispute have not been disclosed  But some industry insiders speculate that Netflix agreed to pay a fee akin to a network usage fee in exchange for dropping the lawsuit    A partnership with SK telecom and SK Broadband  the leading players in Korea’s telecommunications and technology sectors  is important in that it has the potential to enhance the viewing experience for Netflix members   according to Tony Zameczkowski  vice president at Netflix Asia Pacific    The partnership aligns with our commitment to prioritizing customer value   SK telecom Vice President of Corporate Strategy Choi Hwan-seok added  By Kim Dae-young and Han Yubin '"
      ]
     },
     "execution_count": 111,
     "metadata": {},
     "output_type": "execute_result"
    }
   ],
   "source": [
    "no_space_s= s.replace('\\\\n', ' ').replace('“', ' ').replace('”', ' ').replace(',', ' ').replace('.', ' ')\n",
    "no_space_s"
   ]
  },
  {
   "cell_type": "markdown",
   "id": "1d12e51c",
   "metadata": {},
   "source": [
    "### 2번"
   ]
  },
  {
   "cell_type": "code",
   "execution_count": 112,
   "id": "0ab8d433",
   "metadata": {
    "scrolled": true
   },
   "outputs": [
    {
     "data": {
      "text/plain": [
       "[['SK',\n",
       "  'Broadband',\n",
       "  'a',\n",
       "  'subsidiary',\n",
       "  'of',\n",
       "  'South',\n",
       "  'Korean',\n",
       "  'wireless',\n",
       "  'carrier',\n",
       "  'SK',\n",
       "  'telecom',\n",
       "  'Co',\n",
       "  'has',\n",
       "  'officially',\n",
       "  'ended',\n",
       "  'its',\n",
       "  'prolonged',\n",
       "  'legal',\n",
       "  'dispute',\n",
       "  'over',\n",
       "  'network',\n",
       "  'traffic',\n",
       "  'fees',\n",
       "  'with',\n",
       "  'global',\n",
       "  'streaming',\n",
       "  'platform',\n",
       "  'Netflix',\n",
       "  'Inc',\n",
       "  'SK',\n",
       "  'telecom',\n",
       "  'announced',\n",
       "  'the',\n",
       "  'successful',\n",
       "  'resolution',\n",
       "  'of',\n",
       "  'the',\n",
       "  'conflict',\n",
       "  'and',\n",
       "  'revealed',\n",
       "  'a',\n",
       "  'strategic',\n",
       "  'partnership',\n",
       "  'with',\n",
       "  'Netflix',\n",
       "  'to',\n",
       "  'enhance',\n",
       "  'customer',\n",
       "  'convenience',\n",
       "  'on',\n",
       "  'Monday',\n",
       "  'As',\n",
       "  'part',\n",
       "  'of',\n",
       "  'this',\n",
       "  'new',\n",
       "  'collaboration',\n",
       "  'SK',\n",
       "  'telecom',\n",
       "  'and',\n",
       "  'SK',\n",
       "  'Broadband',\n",
       "  'will',\n",
       "  'enable',\n",
       "  'customers',\n",
       "  'to',\n",
       "  'access',\n",
       "  'Netflix',\n",
       "  'via',\n",
       "  'their',\n",
       "  'smartphones',\n",
       "  'and',\n",
       "  'IPTV',\n",
       "  'services',\n",
       "  'known',\n",
       "  'as',\n",
       "  'B',\n",
       "  'tv',\n",
       "  'While',\n",
       "  'they',\n",
       "  'will',\n",
       "  'also',\n",
       "  'introduce',\n",
       "  'a',\n",
       "  'range',\n",
       "  'of',\n",
       "  'bundled',\n",
       "  'plans',\n",
       "  'for',\n",
       "  'customers',\n",
       "  'by',\n",
       "  'combining',\n",
       "  'SK',\n",
       "  'telecom',\n",
       "  '’',\n",
       "  's',\n",
       "  'price',\n",
       "  'plans',\n",
       "  'with',\n",
       "  'SK',\n",
       "  'Broadband',\n",
       "  'IPTV',\n",
       "  'offerings',\n",
       "  'SK',\n",
       "  'telecom',\n",
       "  '’',\n",
       "  's',\n",
       "  'subscription',\n",
       "  'service',\n",
       "  'T',\n",
       "  'Universe',\n",
       "  'will',\n",
       "  'introduce',\n",
       "  'a',\n",
       "  'new',\n",
       "  'Netflix',\n",
       "  'bundle',\n",
       "  'Netflix',\n",
       "  'will',\n",
       "  'also',\n",
       "  'introduce',\n",
       "  'its',\n",
       "  'newly',\n",
       "  'launched',\n",
       "  'ad-based',\n",
       "  'plans',\n",
       "  'to',\n",
       "  'the',\n",
       "  'market',\n",
       "  'These',\n",
       "  'new',\n",
       "  'products',\n",
       "  'are',\n",
       "  'set',\n",
       "  'to',\n",
       "  'be',\n",
       "  'released',\n",
       "  'starting',\n",
       "  'in',\n",
       "  'the',\n",
       "  'first',\n",
       "  'half',\n",
       "  'of',\n",
       "  '2024',\n",
       "  'Beyond',\n",
       "  'products',\n",
       "  'the',\n",
       "  'partnership',\n",
       "  'will',\n",
       "  'also',\n",
       "  'foster',\n",
       "  'technological',\n",
       "  'cooperation',\n",
       "  'SK',\n",
       "  'telecom',\n",
       "  'and',\n",
       "  'SK',\n",
       "  'Broadband',\n",
       "  'will',\n",
       "  'collaborate',\n",
       "  'with',\n",
       "  'Netflix',\n",
       "  'to',\n",
       "  'explore',\n",
       "  'ways',\n",
       "  'to',\n",
       "  'deliver',\n",
       "  'user-friendly',\n",
       "  'entertainment',\n",
       "  'experiences',\n",
       "  'through',\n",
       "  'artificial',\n",
       "  'intelligence',\n",
       "  '(',\n",
       "  'AI',\n",
       "  ')',\n",
       "  'technologies',\n",
       "  'leveraging',\n",
       "  'SKT',\n",
       "  '’',\n",
       "  's',\n",
       "  'extensive',\n",
       "  'experience',\n",
       "  'in',\n",
       "  'interactive',\n",
       "  'UX',\n",
       "  'and',\n",
       "  'personalized',\n",
       "  'guidance',\n",
       "  'The',\n",
       "  'specific',\n",
       "  'terms',\n",
       "  'that',\n",
       "  'led',\n",
       "  'to',\n",
       "  'the',\n",
       "  'resolution',\n",
       "  'of',\n",
       "  'the',\n",
       "  'legal',\n",
       "  'dispute',\n",
       "  'have',\n",
       "  'not',\n",
       "  'been',\n",
       "  'disclosed',\n",
       "  'But',\n",
       "  'some',\n",
       "  'industry',\n",
       "  'insiders',\n",
       "  'speculate',\n",
       "  'that',\n",
       "  'Netflix',\n",
       "  'agreed',\n",
       "  'to',\n",
       "  'pay',\n",
       "  'a',\n",
       "  'fee',\n",
       "  'akin',\n",
       "  'to',\n",
       "  'a',\n",
       "  'network',\n",
       "  'usage',\n",
       "  'fee',\n",
       "  'in',\n",
       "  'exchange',\n",
       "  'for',\n",
       "  'dropping',\n",
       "  'the',\n",
       "  'lawsuit',\n",
       "  'A',\n",
       "  'partnership',\n",
       "  'with',\n",
       "  'SK',\n",
       "  'telecom',\n",
       "  'and',\n",
       "  'SK',\n",
       "  'Broadband',\n",
       "  'the',\n",
       "  'leading',\n",
       "  'players',\n",
       "  'in',\n",
       "  'Korea',\n",
       "  '’',\n",
       "  's',\n",
       "  'telecommunications',\n",
       "  'and',\n",
       "  'technology',\n",
       "  'sectors',\n",
       "  'is',\n",
       "  'important',\n",
       "  'in',\n",
       "  'that',\n",
       "  'it',\n",
       "  'has',\n",
       "  'the',\n",
       "  'potential',\n",
       "  'to',\n",
       "  'enhance',\n",
       "  'the',\n",
       "  'viewing',\n",
       "  'experience',\n",
       "  'for',\n",
       "  'Netflix',\n",
       "  'members',\n",
       "  'according',\n",
       "  'to',\n",
       "  'Tony',\n",
       "  'Zameczkowski',\n",
       "  'vice',\n",
       "  'president',\n",
       "  'at',\n",
       "  'Netflix',\n",
       "  'Asia',\n",
       "  'Pacific',\n",
       "  'The',\n",
       "  'partnership',\n",
       "  'aligns',\n",
       "  'with',\n",
       "  'our',\n",
       "  'commitment',\n",
       "  'to',\n",
       "  'prioritizing',\n",
       "  'customer',\n",
       "  'value',\n",
       "  'SK',\n",
       "  'telecom',\n",
       "  'Vice',\n",
       "  'President',\n",
       "  'of',\n",
       "  'Corporate',\n",
       "  'Strategy',\n",
       "  'Choi',\n",
       "  'Hwan-seok',\n",
       "  'added',\n",
       "  'By',\n",
       "  'Kim',\n",
       "  'Dae-young',\n",
       "  'and',\n",
       "  'Han',\n",
       "  'Yubin']]"
      ]
     },
     "execution_count": 112,
     "metadata": {},
     "output_type": "execute_result"
    }
   ],
   "source": [
    "tokenized_word = []\n",
    "tokenized_word.append(word_tokenize(no_space_s))\n",
    "tokenized_word"
   ]
  },
  {
   "cell_type": "code",
   "execution_count": 113,
   "id": "57481119",
   "metadata": {
    "scrolled": true
   },
   "outputs": [
    {
     "name": "stdout",
     "output_type": "stream",
     "text": [
      "{'SK': 13, 'Broadband': 5, 'a': 6, 'subsidiary': 1, 'of': 7, 'South': 1, 'Korean': 1, 'wireless': 1, 'carrier': 1, 'telecom': 8, 'Co': 1, 'has': 2, 'officially': 1, 'ended': 1, 'its': 2, 'prolonged': 1, 'legal': 2, 'dispute': 2, 'over': 1, 'network': 2, 'traffic': 1, 'fees': 1, 'with': 6, 'global': 1, 'streaming': 1, 'platform': 1, 'Netflix': 9, 'Inc': 1, 'announced': 1, 'the': 11, 'successful': 1, 'resolution': 2, 'conflict': 1, 'and': 8, 'revealed': 1, 'strategic': 1, 'partnership': 4, 'to': 12, 'enhance': 2, 'customer': 2, 'convenience': 1, 'on': 1, 'Monday': 1, 'As': 1, 'part': 1, 'this': 1, 'new': 3, 'collaboration': 1, 'will': 6, 'enable': 1, 'customers': 2, 'access': 1, 'via': 1, 'their': 1, 'smartphones': 1, 'IPTV': 2, 'services': 1, 'known': 1, 'as': 1, 'B': 1, 'tv': 1, 'While': 1, 'they': 1, 'also': 3, 'introduce': 3, 'range': 1, 'bundled': 1, 'plans': 3, 'for': 3, 'by': 1, 'combining': 1, '’': 4, 's': 4, 'price': 1, 'offerings': 1, 'subscription': 1, 'service': 1, 'T': 1, 'Universe': 1, 'bundle': 1, 'newly': 1, 'launched': 1, 'ad-based': 1, 'market': 1, 'These': 1, 'products': 2, 'are': 1, 'set': 1, 'be': 1, 'released': 1, 'starting': 1, 'in': 5, 'first': 1, 'half': 1, '2024': 1, 'Beyond': 1, 'foster': 1, 'technological': 1, 'cooperation': 1, 'collaborate': 1, 'explore': 1, 'ways': 1, 'deliver': 1, 'user-friendly': 1, 'entertainment': 1, 'experiences': 1, 'through': 1, 'artificial': 1, 'intelligence': 1, '(': 1, 'AI': 1, ')': 1, 'technologies': 1, 'leveraging': 1, 'SKT': 1, 'extensive': 1, 'experience': 2, 'interactive': 1, 'UX': 1, 'personalized': 1, 'guidance': 1, 'The': 2, 'specific': 1, 'terms': 1, 'that': 3, 'led': 1, 'have': 1, 'not': 1, 'been': 1, 'disclosed': 1, 'But': 1, 'some': 1, 'industry': 1, 'insiders': 1, 'speculate': 1, 'agreed': 1, 'pay': 1, 'fee': 2, 'akin': 1, 'usage': 1, 'exchange': 1, 'dropping': 1, 'lawsuit': 1, 'A': 1, 'leading': 1, 'players': 1, 'Korea': 1, 'telecommunications': 1, 'technology': 1, 'sectors': 1, 'is': 1, 'important': 1, 'it': 1, 'potential': 1, 'viewing': 1, 'members': 1, 'according': 1, 'Tony': 1, 'Zameczkowski': 1, 'vice': 1, 'president': 1, 'at': 1, 'Asia': 1, 'Pacific': 1, 'aligns': 1, 'our': 1, 'commitment': 1, 'prioritizing': 1, 'value': 1, 'Vice': 1, 'President': 1, 'Corporate': 1, 'Strategy': 1, 'Choi': 1, 'Hwan-seok': 1, 'added': 1, 'By': 1, 'Kim': 1, 'Dae-young': 1, 'Han': 1, 'Yubin': 1}\n"
     ]
    }
   ],
   "source": [
    "word_counts = {}  \n",
    "\n",
    "\n",
    "for comment in tokenized_word:\n",
    "    for word in comment:\n",
    "        if word in word_counts:\n",
    "            word_counts[word] += 1\n",
    "        else:\n",
    "            word_counts[word] = 1\n",
    "\n",
    "print(word_counts)"
   ]
  },
  {
   "cell_type": "markdown",
   "id": "bcf35853",
   "metadata": {},
   "source": [
    "### 3번"
   ]
  },
  {
   "cell_type": "code",
   "execution_count": 114,
   "id": "702f5d13",
   "metadata": {},
   "outputs": [
    {
     "data": {
      "text/plain": [
       "dict"
      ]
     },
     "execution_count": 114,
     "metadata": {},
     "output_type": "execute_result"
    }
   ],
   "source": [
    "type(word_counts)"
   ]
  },
  {
   "cell_type": "code",
   "execution_count": 115,
   "id": "34ffa82c",
   "metadata": {
    "scrolled": true
   },
   "outputs": [
    {
     "data": {
      "text/plain": [
       "[('SK', 13),\n",
       " ('to', 12),\n",
       " ('the', 11),\n",
       " ('Netflix', 9),\n",
       " ('telecom', 8),\n",
       " ('and', 8),\n",
       " ('of', 7),\n",
       " ('a', 6),\n",
       " ('with', 6),\n",
       " ('will', 6)]"
      ]
     },
     "execution_count": 115,
     "metadata": {},
     "output_type": "execute_result"
    }
   ],
   "source": [
    "sorted_word_counts = sorted(word_counts.items(), key = lambda item: item[1], reverse = True)\n",
    "sorted_word_counts[:10]"
   ]
  },
  {
   "cell_type": "markdown",
   "id": "712b38d6",
   "metadata": {},
   "source": [
    "### 4번"
   ]
  },
  {
   "cell_type": "code",
   "execution_count": 117,
   "id": "2951d5ce",
   "metadata": {},
   "outputs": [
    {
     "data": {
      "text/plain": [
       "' SK Broadband, a subsidiary of South Korean wireless carrier SK telecom Co., has officially ended its prolonged legal dispute over network traffic fees with global streaming platform Netflix Inc. SK telecom announced the successful resolution of the conflict and revealed a strategic partnership with Netflix to enhance customer convenience on Monday.  As part of this new collaboration, SK telecom and SK Broadband will enable customers to access Netflix via their smartphones and IPTV services, known as B tv. While they will also introduce a range of bundled plans for customers by combining SK telecom’s price plans with SK Broadband IPTV offerings, SK telecom’s subscription service T Universe will introduce a new Netflix bundle. Netflix will also introduce its newly launched ad-based plans to the market.  These new products are set to be released starting in the first half of 2024.  Beyond products, the partnership will also foster technological cooperation. SK telecom and SK Broadband will collaborate with Netflix to explore ways to deliver user-friendly entertainment experiences through artificial intelligence (AI) technologies, leveraging SKT’s extensive experience in interactive UX and personalized guidance.  The specific terms that led to the resolution of the legal dispute have not been disclosed. But some industry insiders speculate that Netflix agreed to pay a fee akin to a network usage fee in exchange for dropping the lawsuit.  “A partnership with SK telecom and SK Broadband, the leading players in Korea’s telecommunications and technology sectors, is important in that it has the potential to enhance the viewing experience for Netflix members,” according to Tony Zameczkowski, vice president at Netflix Asia Pacific.  “The partnership aligns with our commitment to prioritizing customer value,” SK telecom Vice President of Corporate Strategy Choi Hwan-seok added. By Kim Dae-young and Han Yubin '"
      ]
     },
     "execution_count": 117,
     "metadata": {},
     "output_type": "execute_result"
    }
   ],
   "source": [
    "re_s = s.replace('\\\\n', ' ')\n",
    "re_s"
   ]
  },
  {
   "cell_type": "code",
   "execution_count": 118,
   "id": "d685b1ca",
   "metadata": {},
   "outputs": [
    {
     "data": {
      "text/plain": [
       "1931"
      ]
     },
     "execution_count": 118,
     "metadata": {},
     "output_type": "execute_result"
    }
   ],
   "source": [
    "len(re_s.replace('\\\\n', ''))"
   ]
  },
  {
   "cell_type": "markdown",
   "id": "fc285a22",
   "metadata": {},
   "source": [
    "### 5번"
   ]
  },
  {
   "cell_type": "code",
   "execution_count": 119,
   "id": "b123e215",
   "metadata": {
    "scrolled": false
   },
   "outputs": [
    {
     "data": {
      "text/plain": [
       "[' SK Broadband, a subsidiary of South Korean wireless carrier SK telecom Co., has officially ended its prolonged legal dispute over network traffic fees with global streaming platform Netflix Inc. SK telecom announced the successful resolution of the conflict and revealed a strategic partnership with Netflix to enhance customer convenience on Monday.',\n",
       " 'As part of this new collaboration, SK telecom and SK Broadband will enable customers to access Netflix via their smartphones and IPTV services, known as B tv.',\n",
       " 'While they will also introduce a range of bundled plans for customers by combining SK telecom’s price plans with SK Broadband IPTV offerings, SK telecom’s subscription service T Universe will introduce a new Netflix bundle.',\n",
       " 'Netflix will also introduce its newly launched ad-based plans to the market.',\n",
       " 'These new products are set to be released starting in the first half of 2024.',\n",
       " 'Beyond products, the partnership will also foster technological cooperation.',\n",
       " 'SK telecom and SK Broadband will collaborate with Netflix to explore ways to deliver user-friendly entertainment experiences through artificial intelligence (AI) technologies, leveraging SKT’s extensive experience in interactive UX and personalized guidance.',\n",
       " 'The specific terms that led to the resolution of the legal dispute have not been disclosed.',\n",
       " 'But some industry insiders speculate that Netflix agreed to pay a fee akin to a network usage fee in exchange for dropping the lawsuit.',\n",
       " '“A partnership with SK telecom and SK Broadband, the leading players in Korea’s telecommunications and technology sectors, is important in that it has the potential to enhance the viewing experience for Netflix members,” according to Tony Zameczkowski, vice president at Netflix Asia Pacific.',\n",
       " '“The partnership aligns with our commitment to prioritizing customer value,” SK telecom Vice President of Corporate Strategy Choi Hwan-seok added.',\n",
       " 'By Kim Dae-young and Han Yubin']"
      ]
     },
     "execution_count": 119,
     "metadata": {},
     "output_type": "execute_result"
    }
   ],
   "source": [
    "sentence = sent_tokenize(re_s, language='english')\n",
    "sentence"
   ]
  },
  {
   "cell_type": "code",
   "execution_count": 120,
   "id": "4b86c612",
   "metadata": {},
   "outputs": [
    {
     "data": {
      "text/plain": [
       "[351, 158, 223, 76, 77, 76, 258, 91, 135, 292, 146, 30]"
      ]
     },
     "execution_count": 120,
     "metadata": {},
     "output_type": "execute_result"
    }
   ],
   "source": [
    "mean_count = []\n",
    "for word in sentence:\n",
    "    mean_count.append(len(word))\n",
    "mean_count"
   ]
  },
  {
   "cell_type": "code",
   "execution_count": 121,
   "id": "c04e3577",
   "metadata": {
    "scrolled": false
   },
   "outputs": [
    {
     "name": "stdout",
     "output_type": "stream",
     "text": [
      "뉴스 기사 문장의 평균 길이: 159.41666666666666\n"
     ]
    }
   ],
   "source": [
    "print(\"뉴스 기사 문장의 평균 길이:\", np.mean(mean_count))"
   ]
  },
  {
   "cell_type": "markdown",
   "id": "ed09ec50",
   "metadata": {},
   "source": [
    "### 6번"
   ]
  },
  {
   "cell_type": "code",
   "execution_count": 122,
   "id": "bfb0664b",
   "metadata": {
    "scrolled": false
   },
   "outputs": [],
   "source": [
    "import nltk\n",
    "from nltk.sentiment.vader import SentimentIntensityAnalyzer\n",
    "#nltk.download('vader_lexicon')\n",
    "sia = SentimentIntensityAnalyzer()"
   ]
  },
  {
   "cell_type": "code",
   "execution_count": 123,
   "id": "052e443d",
   "metadata": {
    "scrolled": true
   },
   "outputs": [
    {
     "name": "stdout",
     "output_type": "stream",
     "text": [
      "{'neg': 0.09, 'neu': 0.814, 'pos': 0.096, 'compound': 0.0772}\n",
      "0.0772\n",
      " SK Broadband, a subsidiary of South Korean wireless carrier SK telecom Co., has officially ended its prolonged legal dispute over network traffic fees with global streaming platform Netflix Inc. SK telecom announced the successful resolution of the conflict and revealed a strategic partnership with Netflix to enhance customer convenience on Monday.\n",
      "{'neg': 0.0, 'neu': 1.0, 'pos': 0.0, 'compound': 0.0}\n",
      "0.0\n",
      "As part of this new collaboration, SK telecom and SK Broadband will enable customers to access Netflix via their smartphones and IPTV services, known as B tv.\n",
      "{'neg': 0.0, 'neu': 1.0, 'pos': 0.0, 'compound': 0.0}\n",
      "0.0\n",
      "While they will also introduce a range of bundled plans for customers by combining SK telecom’s price plans with SK Broadband IPTV offerings, SK telecom’s subscription service T Universe will introduce a new Netflix bundle.\n",
      "{'neg': 0.0, 'neu': 0.88, 'pos': 0.12, 'compound': 0.128}\n",
      "0.128\n",
      "Netflix will also introduce its newly launched ad-based plans to the market.\n",
      "{'neg': 0.0, 'neu': 1.0, 'pos': 0.0, 'compound': 0.0}\n",
      "0.0\n",
      "These new products are set to be released starting in the first half of 2024.\n",
      "{'neg': 0.0, 'neu': 1.0, 'pos': 0.0, 'compound': 0.0}\n",
      "0.0\n",
      "Beyond products, the partnership will also foster technological cooperation.\n",
      "{'neg': 0.0, 'neu': 0.836, 'pos': 0.164, 'compound': 0.7096}\n",
      "0.7096\n",
      "SK telecom and SK Broadband will collaborate with Netflix to explore ways to deliver user-friendly entertainment experiences through artificial intelligence (AI) technologies, leveraging SKT’s extensive experience in interactive UX and personalized guidance.\n",
      "{'neg': 0.148, 'neu': 0.769, 'pos': 0.082, 'compound': -0.296}\n",
      "-0.296\n",
      "The specific terms that led to the resolution of the legal dispute have not been disclosed.\n",
      "{'neg': 0.154, 'neu': 0.742, 'pos': 0.104, 'compound': -0.0772}\n",
      "-0.0772\n",
      "But some industry insiders speculate that Netflix agreed to pay a fee akin to a network usage fee in exchange for dropping the lawsuit.\n",
      "{'neg': 0.0, 'neu': 0.959, 'pos': 0.041, 'compound': 0.2023}\n",
      "0.2023\n",
      "“A partnership with SK telecom and SK Broadband, the leading players in Korea’s telecommunications and technology sectors, is important in that it has the potential to enhance the viewing experience for Netflix members,” according to Tony Zameczkowski, vice president at Netflix Asia Pacific.\n",
      "{'neg': 0.0, 'neu': 0.88, 'pos': 0.12, 'compound': 0.3818}\n",
      "0.3818\n",
      "“The partnership aligns with our commitment to prioritizing customer value,” SK telecom Vice President of Corporate Strategy Choi Hwan-seok added.\n",
      "{'neg': 0.0, 'neu': 1.0, 'pos': 0.0, 'compound': 0.0}\n",
      "0.0\n",
      "By Kim Dae-young and Han Yubin\n"
     ]
    }
   ],
   "source": [
    "col_text_list =['testtext']\n",
    "\n",
    "\n",
    "score_test = pd.DataFrame(sentence, columns=col_text_list)\n",
    "\n",
    "for index, row in score_test.iterrows():\n",
    "    print(sia.polarity_scores(row['testtext']))\n",
    "    print(sia.polarity_scores(row['testtext'])['compound'])\n",
    "    print(row['testtext'])"
   ]
  },
  {
   "cell_type": "code",
   "execution_count": 124,
   "id": "210ba530",
   "metadata": {},
   "outputs": [
    {
     "name": "stdout",
     "output_type": "stream",
     "text": [
      "긍정적인 단어 개수: 0\n",
      "부정적인 단어 개수: 0\n"
     ]
    }
   ],
   "source": [
    "pos_word = [\"collaborate\", \"cooperation\", \"user-friendly\", \"entertainment\", \"commitment\"]\n",
    "neg_word = [\"dispute\", \"conflict\"]\n",
    "\n",
    "pos_count = 0\n",
    "neg_count = 0\n",
    "\n",
    "for word in sentence:\n",
    "    pos_count += sum(sentence.count(word) for word in pos_word)\n",
    "    neg_count += sum(sentence.count(word) for word in neg_word)\n",
    "\n",
    "print(\"긍정적인 단어 개수:\", pos_count)\n",
    "print(\"부정적인 단어 개수:\", neg_count)\n"
   ]
  },
  {
   "cell_type": "markdown",
   "id": "5c13cc52",
   "metadata": {},
   "source": [
    "### 7번"
   ]
  },
  {
   "cell_type": "code",
   "execution_count": 125,
   "id": "ff51ef24",
   "metadata": {},
   "outputs": [],
   "source": [
    "#nltk.download('all')\n",
    "#nltk.download('wordnet')\n",
    "#nltk.download('stopwords')\n",
    "\n",
    "stop_word_eng = set(stopwords.words('english'))\n",
    "sentence = [i for i in sentence if i not in stop_word_eng]"
   ]
  },
  {
   "cell_type": "code",
   "execution_count": 126,
   "id": "a5856fb5",
   "metadata": {},
   "outputs": [
    {
     "name": "stdout",
     "output_type": "stream",
     "text": [
      "[' sk broadband a subsidiary of south korean wireless carrier sk telecom co has officially ended its prolonged legal dispute over network traffic fees with global streaming platform netflix inc sk telecom announced the successful resolution of the conflict and revealed a strategic partnership with netflix to enhance customer convenience on monday ', 'as part of this new collaboration sk telecom and sk broadband will enable customers to access netflix via their smartphones and iptv services known as b tv ', 'while they will also introduce a range of bundled plans for customers by combining sk telecom s price plans with sk broadband iptv offerings sk telecom s subscription service t universe will introduce a new netflix bundle ', 'netflix will also introduce its newly launched ad based plans to the market ', 'these new products are set to be released starting in the first half of 2024 ', 'beyond products the partnership will also foster technological cooperation ', 'sk telecom and sk broadband will collaborate with netflix to explore ways to deliver user friendly entertainment experiences through artificial intelligence ai technologies leveraging skt s extensive experience in interactive ux and personalized guidance ', 'the specific terms that led to the resolution of the legal dispute have not been disclosed ', 'but some industry insiders speculate that netflix agreed to pay a fee akin to a network usage fee in exchange for dropping the lawsuit ', ' a partnership with sk telecom and sk broadband the leading players in korea s telecommunications and technology sectors is important in that it has the potential to enhance the viewing experience for netflix members according to tony zameczkowski vice president at netflix asia pacific ', ' the partnership aligns with our commitment to prioritizing customer value sk telecom vice president of corporate strategy choi hwan seok added ', 'by kim dae young and han yubin']\n"
     ]
    }
   ],
   "source": [
    "# 영어 대문자 -> 소문자\n",
    "compile = re.compile(\"\\W+\")\n",
    "for i in range(len(sentence)):\n",
    "\n",
    "    a = compile.sub(\" \",sentence[i])\n",
    "    sentence[i] = a.lower()\n",
    "print(sentence)"
   ]
  },
  {
   "cell_type": "code",
   "execution_count": 127,
   "id": "36c1a2f1",
   "metadata": {
    "scrolled": true
   },
   "outputs": [
    {
     "name": "stdout",
     "output_type": "stream",
     "text": [
      "['sk', 'broadband', 'subsidiari', 'south', 'korean', 'wireless', 'carrier', 'sk', 'telecom', 'co', 'offici', 'end', 'prolong', 'legal', 'disput', 'network', 'traffic', 'fee', 'global', 'stream', 'platform', 'netflix', 'inc', 'sk', 'telecom', 'announc', 'success', 'resolut', 'conflict', 'reveal', 'strateg', 'partnership', 'netflix', 'enhanc', 'custom', 'conveni', 'monday', 'part', 'new', 'collabor', 'sk', 'telecom', 'sk', 'broadband', 'enabl', 'custom', 'access', 'netflix', 'via', 'smartphon', 'iptv', 'servic', 'known', 'b', 'tv', 'also', 'introduc', 'rang', 'bundl', 'plan', 'custom', 'combin', 'sk', 'telecom', 'price', 'plan', 'sk', 'broadband', 'iptv', 'offer', 'sk', 'telecom', 'subscript', 'servic', 'univers', 'introduc', 'new', 'netflix', 'bundl', 'netflix', 'also', 'introduc', 'newli', 'launch', 'ad', 'base', 'plan', 'market', 'new', 'product', 'set', 'releas', 'start', 'first', 'half', '2024', 'beyond', 'product', 'partnership', 'also', 'foster', 'technolog', 'cooper', 'sk', 'telecom', 'sk', 'broadband', 'collabor', 'netflix', 'explor', 'way', 'deliv', 'user', 'friendli', 'entertain', 'experi', 'artifici', 'intellig', 'ai', 'technolog', 'leverag', 'skt', 'extens', 'experi', 'interact', 'ux', 'person', 'guidanc', 'specif', 'term', 'led', 'resolut', 'legal', 'disput', 'disclos', 'industri', 'insid', 'specul', 'netflix', 'agre', 'pay', 'fee', 'akin', 'network', 'usag', 'fee', 'exchang', 'drop', 'lawsuit', 'partnership', 'sk', 'telecom', 'sk', 'broadband', 'lead', 'player', 'korea', 'telecommun', 'technolog', 'sector', 'import', 'potenti', 'enhanc', 'view', 'experi', 'netflix', 'member', 'accord', 'toni', 'zameczkowski', 'vice', 'presid', 'netflix', 'asia', 'pacif', 'partnership', 'align', 'commit', 'priorit', 'custom', 'valu', 'sk', 'telecom', 'vice', 'presid', 'corpor', 'strategi', 'choi', 'hwan', 'seok', 'ad', 'kim', 'dae', 'young', 'han', 'yubin']\n"
     ]
    }
   ],
   "source": [
    "# 어근 통일\n",
    "ps_stemmer = PorterStemmer()\n",
    "token = RegexpTokenizer('[\\w]+')\n",
    "result = [token.tokenize(i) for i in sentence]\n",
    "middle_result= [r for i in result for r in i]\n",
    "\n",
    "# 불용어 제거\n",
    "final_result = [ps_stemmer.stem(i) for i in middle_result if not i in stop_word_eng] \n",
    "print(final_result)"
   ]
  },
  {
   "cell_type": "code",
   "execution_count": 128,
   "id": "95a716ad",
   "metadata": {},
   "outputs": [
    {
     "name": "stdout",
     "output_type": "stream",
     "text": [
      "[('sk', 'NN'), ('broadband', 'NN'), ('subsidiari', 'NN'), ('south', 'JJ'), ('korean', 'JJ'), ('wireless', 'NN'), ('carrier', 'NN'), ('sk', 'NN'), ('telecom', 'NN'), ('co', 'NN'), ('offici', 'JJ'), ('end', 'NN'), ('prolong', 'JJ'), ('legal', 'JJ'), ('disput', 'NN'), ('network', 'NN'), ('traffic', 'NN'), ('fee', 'NN'), ('global', 'JJ'), ('stream', 'NN'), ('platform', 'NN'), ('netflix', 'NN'), ('inc', 'NN'), ('sk', 'NN'), ('telecom', 'NN'), ('announc', 'NN'), ('success', 'NN'), ('resolut', 'NN'), ('conflict', 'NN'), ('reveal', 'NN'), ('strateg', 'NN'), ('partnership', 'NN'), ('netflix', 'JJ'), ('enhanc', 'NN'), ('custom', 'NN'), ('conveni', 'NN'), ('monday', 'JJ'), ('part', 'NN'), ('new', 'JJ'), ('collabor', 'NN'), ('sk', 'NN'), ('telecom', 'NN'), ('sk', 'NN'), ('broadband', 'NN'), ('enabl', 'NN'), ('custom', 'NN'), ('access', 'NN'), ('netflix', 'NN'), ('via', 'IN'), ('smartphon', 'NN'), ('iptv', 'JJ'), ('servic', 'NN'), ('known', 'VBN'), ('b', 'JJ'), ('tv', 'NN'), ('also', 'RB'), ('introduc', 'VBZ'), ('rang', 'NN'), ('bundl', 'NN'), ('plan', 'NN'), ('custom', 'VBP'), ('combin', 'JJ'), ('sk', 'NN'), ('telecom', 'NN'), ('price', 'NN'), ('plan', 'NN'), ('sk', 'JJ'), ('broadband', 'NN'), ('iptv', 'NN'), ('offer', 'NN'), ('sk', 'NN'), ('telecom', 'NN'), ('subscript', 'NN'), ('servic', 'JJ'), ('univers', 'NNS'), ('introduc', 'VBP'), ('new', 'JJ'), ('netflix', 'NN'), ('bundl', 'NN'), ('netflix', 'NN'), ('also', 'RB'), ('introduc', 'JJ'), ('newli', 'RB'), ('launch', 'JJ'), ('ad', 'NN'), ('base', 'NN'), ('plan', 'NN'), ('market', 'NN'), ('new', 'JJ'), ('product', 'NN'), ('set', 'VBN'), ('releas', 'JJ'), ('start', 'VBP'), ('first', 'RB'), ('half', 'NN'), ('2024', 'CD'), ('beyond', 'IN'), ('product', 'NN'), ('partnership', 'NN'), ('also', 'RB'), ('foster', 'RB'), ('technolog', 'JJ'), ('cooper', 'JJR'), ('sk', 'NN'), ('telecom', 'NN'), ('sk', 'NN'), ('broadband', 'NN'), ('collabor', 'NN'), ('netflix', 'IN'), ('explor', 'JJ'), ('way', 'NN'), ('deliv', 'IN'), ('user', 'JJ'), ('friendli', 'NN'), ('entertain', 'NN'), ('experi', 'JJ'), ('artifici', 'NN'), ('intellig', 'NN'), ('ai', 'VBP'), ('technolog', 'NN'), ('leverag', 'NN'), ('skt', 'NN'), ('extens', 'VBZ'), ('experi', 'JJ'), ('interact', 'JJ'), ('ux', 'JJ'), ('person', 'NN'), ('guidanc', 'NN'), ('specif', 'JJ'), ('term', 'NN'), ('led', 'VBD'), ('resolut', 'JJ'), ('legal', 'JJ'), ('disput', 'NN'), ('disclos', 'NN'), ('industri', 'NN'), ('insid', 'NN'), ('specul', 'NN'), ('netflix', 'IN'), ('agre', 'JJ'), ('pay', 'NN'), ('fee', 'NN'), ('akin', 'JJ'), ('network', 'NN'), ('usag', 'JJ'), ('fee', 'NN'), ('exchang', 'NN'), ('drop', 'NN'), ('lawsuit', 'NN'), ('partnership', 'NN'), ('sk', 'NN'), ('telecom', 'NN'), ('sk', 'NN'), ('broadband', 'NN'), ('lead', 'NN'), ('player', 'NN'), ('korea', 'JJ'), ('telecommun', 'NN'), ('technolog', 'NN'), ('sector', 'NN'), ('import', 'NN'), ('potenti', 'VBD'), ('enhanc', 'JJ'), ('view', 'NN'), ('experi', 'VBP'), ('netflix', 'JJ'), ('member', 'NN'), ('accord', 'NN'), ('toni', 'NN'), ('zameczkowski', 'NNP'), ('vice', 'NN'), ('presid', 'NN'), ('netflix', 'NN'), ('asia', 'NN'), ('pacif', 'NN'), ('partnership', 'NN'), ('align', 'JJ'), ('commit', 'NN'), ('priorit', 'NN'), ('custom', 'NN'), ('valu', 'NN'), ('sk', 'NN'), ('telecom', 'NN'), ('vice', 'NN'), ('presid', 'NN'), ('corpor', 'NN'), ('strategi', 'NN'), ('choi', 'NN'), ('hwan', 'NN'), ('seok', 'NN'), ('ad', 'NN'), ('kim', 'NN'), ('dae', 'NN'), ('young', 'JJ'), ('han', 'NN'), ('yubin', 'NN')]\n"
     ]
    }
   ],
   "source": [
    "# nltk.pos_tag() 함수를 사용해서 품사 태깅\n",
    "tokens_pos = nltk.pos_tag(final_result)   \n",
    "print(tokens_pos)"
   ]
  },
  {
   "cell_type": "code",
   "execution_count": 129,
   "id": "338c210a",
   "metadata": {
    "scrolled": false
   },
   "outputs": [
    {
     "name": "stdout",
     "output_type": "stream",
     "text": [
      "['sk', 'broadband', 'subsidiari', 'wireless', 'carrier', 'sk', 'telecom', 'co', 'end', 'disput', 'network', 'traffic', 'fee', 'stream', 'platform', 'netflix', 'inc', 'sk', 'telecom', 'announc', 'success', 'resolut', 'conflict', 'reveal', 'strateg', 'partnership', 'enhanc', 'custom', 'conveni', 'part', 'collabor', 'sk', 'telecom', 'sk', 'broadband', 'enabl', 'custom', 'access', 'netflix', 'smartphon', 'servic', 'tv', 'rang', 'bundl', 'plan', 'sk', 'telecom', 'price', 'plan', 'broadband', 'iptv', 'offer', 'sk', 'telecom', 'subscript', 'univers', 'netflix', 'bundl', 'netflix', 'ad', 'base', 'plan', 'market', 'product', 'half', 'product', 'partnership', 'sk', 'telecom', 'sk', 'broadband', 'collabor', 'way', 'friendli', 'entertain', 'artifici', 'intellig', 'technolog', 'leverag', 'skt', 'person', 'guidanc', 'term', 'disput', 'disclos', 'industri', 'insid', 'specul', 'pay', 'fee', 'network', 'fee', 'exchang', 'drop', 'lawsuit', 'partnership', 'sk', 'telecom', 'sk', 'broadband', 'lead', 'player', 'telecommun', 'technolog', 'sector', 'import', 'view', 'member', 'accord', 'toni', 'zameczkowski', 'vice', 'presid', 'netflix', 'asia', 'pacif', 'partnership', 'commit', 'priorit', 'custom', 'valu', 'sk', 'telecom', 'vice', 'presid', 'corpor', 'strategi', 'choi', 'hwan', 'seok', 'ad', 'kim', 'dae', 'han', 'yubin']\n"
     ]
    }
   ],
   "source": [
    "# 명사 단어만 추출\n",
    "NN_words = []\n",
    "\n",
    "for word, pos in tokens_pos:\n",
    "    if 'NN' in pos:           ## Noun 종류 4개는 모두 'NN'을 포함하고 있어서 (NN, NNS, NNP, NNPS)\n",
    "        NN_words.append(word)\n",
    "\n",
    "print(NN_words)"
   ]
  },
  {
   "cell_type": "code",
   "execution_count": 130,
   "id": "20a679d9",
   "metadata": {
    "scrolled": true
   },
   "outputs": [
    {
     "name": "stdout",
     "output_type": "stream",
     "text": [
      "Counter({'sk': 12, 'telecom': 8, 'broadband': 5, 'netflix': 5, 'partnership': 4, 'fee': 3, 'custom': 3, 'plan': 3, 'disput': 2, 'network': 2, 'collabor': 2, 'bundl': 2, 'ad': 2, 'product': 2, 'technolog': 2, 'vice': 2, 'presid': 2, 'subsidiari': 1, 'wireless': 1, 'carrier': 1, 'co': 1, 'end': 1, 'traffic': 1, 'stream': 1, 'platform': 1, 'inc': 1, 'announc': 1, 'success': 1, 'resolut': 1, 'conflict': 1, 'reveal': 1, 'strateg': 1, 'enhanc': 1, 'conveni': 1, 'part': 1, 'enabl': 1, 'access': 1, 'smartphon': 1, 'servic': 1, 'tv': 1, 'rang': 1, 'price': 1, 'iptv': 1, 'offer': 1, 'subscript': 1, 'univers': 1, 'base': 1, 'market': 1, 'half': 1, 'way': 1, 'friendli': 1, 'entertain': 1, 'artifici': 1, 'intellig': 1, 'leverag': 1, 'skt': 1, 'person': 1, 'guidanc': 1, 'term': 1, 'disclos': 1, 'industri': 1, 'insid': 1, 'specul': 1, 'pay': 1, 'exchang': 1, 'drop': 1, 'lawsuit': 1, 'lead': 1, 'player': 1, 'telecommun': 1, 'sector': 1, 'import': 1, 'view': 1, 'member': 1, 'accord': 1, 'toni': 1, 'zameczkowski': 1, 'asia': 1, 'pacif': 1, 'commit': 1, 'priorit': 1, 'valu': 1, 'corpor': 1, 'strategi': 1, 'choi': 1, 'hwan': 1, 'seok': 1, 'kim': 1, 'dae': 1, 'han': 1, 'yubin': 1})\n"
     ]
    }
   ],
   "source": [
    "c = Counter(NN_words)  ## 단어 개수를 세어준다\n",
    "print(c)"
   ]
  },
  {
   "cell_type": "code",
   "execution_count": 131,
   "id": "15f17ba2",
   "metadata": {},
   "outputs": [
    {
     "name": "stdout",
     "output_type": "stream",
     "text": [
      "[('sk', 12), ('telecom', 8), ('broadband', 5), ('netflix', 5), ('partnership', 4), ('fee', 3), ('custom', 3), ('plan', 3), ('disput', 2), ('network', 2)]\n"
     ]
    }
   ],
   "source": [
    "print(c.most_common(10))"
   ]
  },
  {
   "cell_type": "markdown",
   "id": "26a2955e",
   "metadata": {},
   "source": [
    "### 8번"
   ]
  },
  {
   "cell_type": "code",
   "execution_count": 132,
   "id": "9f95d3f8",
   "metadata": {},
   "outputs": [],
   "source": [
    "#!pip install summa feedparser newspaper3k\n",
    "# gensism은 3.8 버전\n",
    "import feedparser\n",
    "from newspaper import Article\n",
    "from summa.summarizer import summarize"
   ]
  },
  {
   "cell_type": "code",
   "execution_count": 134,
   "id": "fba8bf97",
   "metadata": {},
   "outputs": [
    {
     "data": {
      "text/plain": [
       "'SK Broadband, a subsidiary of South Korean wireless carrier SK telecom Co., has officially ended its prolonged legal dispute over network traffic fees with global streaming platform Netflix Inc. SK telecom announced the successful resolution of the conflict and revealed a strategic partnership with Netflix to enhance customer convenience on Monday.\\nWhile they will also introduce a range of bundled plans for customers by combining SK telecom’s price plans with SK Broadband IPTV offerings, SK telecom’s subscription service T Universe will introduce a new Netflix bundle.'"
      ]
     },
     "execution_count": 134,
     "metadata": {},
     "output_type": "execute_result"
    }
   ],
   "source": [
    "NewsSum = summarize(re_s)\n",
    "NewsSum"
   ]
  },
  {
   "cell_type": "code",
   "execution_count": null,
   "id": "45cdf91e",
   "metadata": {},
   "outputs": [],
   "source": []
  },
  {
   "cell_type": "code",
   "execution_count": null,
   "id": "ed8c1bf1",
   "metadata": {},
   "outputs": [],
   "source": []
  }
 ],
 "metadata": {
  "kernelspec": {
   "display_name": "Python 3 (ipykernel)",
   "language": "python",
   "name": "python3"
  },
  "language_info": {
   "codemirror_mode": {
    "name": "ipython",
    "version": 3
   },
   "file_extension": ".py",
   "mimetype": "text/x-python",
   "name": "python",
   "nbconvert_exporter": "python",
   "pygments_lexer": "ipython3",
   "version": "3.10.9"
  }
 },
 "nbformat": 4,
 "nbformat_minor": 5
}
